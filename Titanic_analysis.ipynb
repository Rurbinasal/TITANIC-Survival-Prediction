{
 "cells": [
  {
   "cell_type": "markdown",
   "metadata": {},
   "source": [
    "# Setup and Inspection"
   ]
  },
  {
   "cell_type": "markdown",
   "metadata": {},
   "source": [
    "**Data Dictionary**\n",
    "\n",
    "| Variable | Definition | Key |\n",
    "| :----- | :----- | :----- |\n",
    "|survival | Survival | 0 = No, 1 = Yes |\n",
    "|pclass | Ticket class | 1 = 1st, 2 = 2nd, 3 = 3rd |\n",
    "|sex | Sex |  |\n",
    "|Age | Age in years |  |\n",
    "|sibsp | # of siblings / spouses aboard the Titanic |  |\n",
    "|parch | # of parents / children aboard the Titanic |  |\n",
    "|ticket | Ticket number |  |\n",
    "|fare | Passenger fare |  |\n",
    "|cabin | Cabin number |  |\n",
    "|embarked | Port of Embarkation | C = Cherbourg, Q = Queenstown, S = Southampton |\n",
    "\n",
    "\n",
    "**Variable Notes**\n",
    "\n",
    "pclass: A proxy for socio-economic status (SES)\n",
    "1st = Upper\n",
    "2nd = Middle\n",
    "3rd = Lower\n",
    "\n",
    "age: Age is fractional if less than 1. If the age is estimated, is it in the form of xx.5\n",
    "\n",
    "sibsp: The dataset defines family relations in this way...\n",
    "Sibling = brother, sister, stepbrother, stepsister\n",
    "Spouse = husband, wife (mistresses and fiancés were ignored)\n",
    "\n",
    "parch: The dataset defines family relations in this way...\n",
    "Parent = mother, father\n",
    "Child = daughter, son, stepdaughter, stepson\n",
    "Some children travelled only with a nanny, therefore parch=0 for them."
   ]
  },
  {
   "cell_type": "code",
   "execution_count": 30,
   "metadata": {
    "code_folding": [
     0
    ]
   },
   "outputs": [],
   "source": [
    "# Import libraries\n",
    "import pandas as pd\n",
    "import numpy as np\n",
    "import seaborn as sns\n",
    "import matplotlib.pyplot as plt\n",
    "from numpy import loadtxt\n",
    "import os, glob\n",
    "import math\n",
    "from datetime import datetime\n",
    "from datetime import timedelta\n",
    "%matplotlib inline\n",
    "\n",
    "# Plotly\n",
    "import plotly\n",
    "import plotly.express as px\n",
    "import plotly.graph_objects as go\n",
    "import plotly.io as pio\n",
    "import cufflinks as cf\n",
    "\n",
    "# Preprocessing\n",
    "from sklearn.preprocessing import OneHotEncoder, MinMaxScaler, StandardScaler, PolynomialFeatures, LabelEncoder\n",
    "from sklearn.impute import SimpleImputer\n",
    "from sklearn.feature_extraction import DictVectorizer\n",
    "from sklearn.pipeline import Pipeline, make_pipeline  # Same, but with the latter it is not necessary to name estimator and transformer\n",
    "#from imblearn.pipeline import Pipeline as Imb_Pipe\n",
    "from sklearn.compose import ColumnTransformer\n",
    "from sklearn.cluster import DBSCAN\n",
    "\n",
    "# Feature Selection\n",
    "from sklearn.feature_selection import SelectKBest, chi2, f_classif, GenericUnivariateSelect, mutual_info_classif\n",
    "#import eli5\n",
    "\n",
    "# Predictive Modeling (Models)\n",
    "from sklearn.dummy import DummyClassifier, DummyRegressor\n",
    "import statsmodels.api as sm\n",
    "import statsmodels.formula.api as smf\n",
    "from sklearn.model_selection import RandomizedSearchCV, GridSearchCV, cross_val_predict, cross_val_score, cross_validate, KFold\n",
    "from sklearn.tree import DecisionTreeClassifier, DecisionTreeRegressor\n",
    "from sklearn.svm import SVC, NuSVC, SVR\n",
    "from sklearn.linear_model import LinearRegression, LogisticRegression, PassiveAggressiveRegressor, ElasticNet, SGDRegressor, RANSACRegressor\n",
    "from sklearn.ensemble import AdaBoostClassifier, AdaBoostRegressor, GradientBoostingRegressor, VotingClassifier, RandomForestClassifier, RandomForestRegressor, GradientBoostingClassifier, IsolationForest\n",
    "from sklearn.neighbors import KNeighborsClassifier, KNeighborsRegressor\n",
    "from xgboost import XGBClassifier, XGBRegressor\n",
    "from scipy.stats import randint\n",
    "from sklearn.multiclass import OneVsRestClassifier\n",
    "from catboost import CatBoostRegressor, CatBoostClassifier\n",
    "\n",
    "# Evaluation Metrics\n",
    "from sklearn import metrics\n",
    "from sklearn.metrics import mean_absolute_error, mean_squared_error, r2_score, make_scorer, fbeta_score, accuracy_score, confusion_matrix, f1_score, precision_recall_curve, recall_score, precision_score, roc_auc_score\n",
    "from scipy.sparse import csr_matrix\n",
    "import scipy.stats as stats\n",
    "\n",
    "# Neural Networks\n",
    "from keras import models, layers, optimizers, regularizers\n",
    "from keras.utils.vis_utils import model_to_dot\n",
    "from keras.wrappers.scikit_learn import KerasRegressor\n",
    "from IPython.display import SVG"
   ]
  },
  {
   "cell_type": "code",
   "execution_count": 31,
   "metadata": {
    "code_folding": [
     0
    ]
   },
   "outputs": [],
   "source": [
    "# Notebook settings\n",
    "target = \"Survived\"\n",
    "scoring = \"accuracy\"\n",
    "random_state = 42\n",
    "pd.set_option('display.max_columns', 150)\n",
    "pd.set_option('display.max_rows', 100)\n",
    "pd.options.display.max_seq_items = 300"
   ]
  },
  {
   "cell_type": "markdown",
   "metadata": {},
   "source": [
    "**Import train and test datasets**"
   ]
  },
  {
   "cell_type": "code",
   "execution_count": 32,
   "metadata": {
    "code_folding": [
     0
    ]
   },
   "outputs": [],
   "source": [
    "# Import train dataset as DataFrame\n",
    "data_raw = pd.read_csv(\"data/train.csv\")"
   ]
  },
  {
   "cell_type": "code",
   "execution_count": 33,
   "metadata": {
    "code_folding": [
     0
    ]
   },
   "outputs": [],
   "source": [
    "# Assign data_raw to data\n",
    "data = data_raw.copy()\n",
    "data.set_index('PassengerId', inplace=True)"
   ]
  },
  {
   "cell_type": "code",
   "execution_count": 34,
   "metadata": {
    "code_folding": [
     0
    ]
   },
   "outputs": [],
   "source": [
    "# Import test dataset as DataFrame\n",
    "X_test_raw = pd.read_csv(\"data/test.csv\")"
   ]
  },
  {
   "cell_type": "code",
   "execution_count": 35,
   "metadata": {
    "code_folding": [
     0
    ]
   },
   "outputs": [],
   "source": [
    "# Assign X_test_raw to X_test\n",
    "X_test = X_test_raw.copy()\n",
    "X_test.set_index('PassengerId', inplace=True)"
   ]
  },
  {
   "cell_type": "markdown",
   "metadata": {},
   "source": [
    "**Inspect train dataset**"
   ]
  },
  {
   "cell_type": "code",
   "execution_count": 36,
   "metadata": {
    "code_folding": [
     0
    ]
   },
   "outputs": [
    {
     "data": {
      "text/plain": [
       "(891, 11)"
      ]
     },
     "execution_count": 36,
     "metadata": {},
     "output_type": "execute_result"
    }
   ],
   "source": [
    "# Display shape of \"data\"\n",
    "data.shape"
   ]
  },
  {
   "cell_type": "code",
   "execution_count": 37,
   "metadata": {
    "code_folding": [
     0
    ]
   },
   "outputs": [
    {
     "data": {
      "text/html": [
       "<div>\n",
       "<style scoped>\n",
       "    .dataframe tbody tr th:only-of-type {\n",
       "        vertical-align: middle;\n",
       "    }\n",
       "\n",
       "    .dataframe tbody tr th {\n",
       "        vertical-align: top;\n",
       "    }\n",
       "\n",
       "    .dataframe thead th {\n",
       "        text-align: right;\n",
       "    }\n",
       "</style>\n",
       "<table border=\"1\" class=\"dataframe\">\n",
       "  <thead>\n",
       "    <tr style=\"text-align: right;\">\n",
       "      <th></th>\n",
       "      <th>Survived</th>\n",
       "      <th>Pclass</th>\n",
       "      <th>Name</th>\n",
       "      <th>Sex</th>\n",
       "      <th>Age</th>\n",
       "      <th>SibSp</th>\n",
       "      <th>Parch</th>\n",
       "      <th>Ticket</th>\n",
       "      <th>Fare</th>\n",
       "      <th>Cabin</th>\n",
       "      <th>Embarked</th>\n",
       "    </tr>\n",
       "    <tr>\n",
       "      <th>PassengerId</th>\n",
       "      <th></th>\n",
       "      <th></th>\n",
       "      <th></th>\n",
       "      <th></th>\n",
       "      <th></th>\n",
       "      <th></th>\n",
       "      <th></th>\n",
       "      <th></th>\n",
       "      <th></th>\n",
       "      <th></th>\n",
       "      <th></th>\n",
       "    </tr>\n",
       "  </thead>\n",
       "  <tbody>\n",
       "    <tr>\n",
       "      <th>1</th>\n",
       "      <td>0</td>\n",
       "      <td>3</td>\n",
       "      <td>Braund, Mr. Owen Harris</td>\n",
       "      <td>male</td>\n",
       "      <td>22.0</td>\n",
       "      <td>1</td>\n",
       "      <td>0</td>\n",
       "      <td>A/5 21171</td>\n",
       "      <td>7.2500</td>\n",
       "      <td>NaN</td>\n",
       "      <td>S</td>\n",
       "    </tr>\n",
       "    <tr>\n",
       "      <th>2</th>\n",
       "      <td>1</td>\n",
       "      <td>1</td>\n",
       "      <td>Cumings, Mrs. John Bradley (Florence Briggs Th...</td>\n",
       "      <td>female</td>\n",
       "      <td>38.0</td>\n",
       "      <td>1</td>\n",
       "      <td>0</td>\n",
       "      <td>PC 17599</td>\n",
       "      <td>71.2833</td>\n",
       "      <td>C85</td>\n",
       "      <td>C</td>\n",
       "    </tr>\n",
       "    <tr>\n",
       "      <th>3</th>\n",
       "      <td>1</td>\n",
       "      <td>3</td>\n",
       "      <td>Heikkinen, Miss. Laina</td>\n",
       "      <td>female</td>\n",
       "      <td>26.0</td>\n",
       "      <td>0</td>\n",
       "      <td>0</td>\n",
       "      <td>STON/O2. 3101282</td>\n",
       "      <td>7.9250</td>\n",
       "      <td>NaN</td>\n",
       "      <td>S</td>\n",
       "    </tr>\n",
       "  </tbody>\n",
       "</table>\n",
       "</div>"
      ],
      "text/plain": [
       "             Survived  Pclass  \\\n",
       "PassengerId                     \n",
       "1                   0       3   \n",
       "2                   1       1   \n",
       "3                   1       3   \n",
       "\n",
       "                                                          Name     Sex   Age  \\\n",
       "PassengerId                                                                    \n",
       "1                                      Braund, Mr. Owen Harris    male  22.0   \n",
       "2            Cumings, Mrs. John Bradley (Florence Briggs Th...  female  38.0   \n",
       "3                                       Heikkinen, Miss. Laina  female  26.0   \n",
       "\n",
       "             SibSp  Parch            Ticket     Fare Cabin Embarked  \n",
       "PassengerId                                                          \n",
       "1                1      0         A/5 21171   7.2500   NaN        S  \n",
       "2                1      0          PC 17599  71.2833   C85        C  \n",
       "3                0      0  STON/O2. 3101282   7.9250   NaN        S  "
      ]
     },
     "execution_count": 37,
     "metadata": {},
     "output_type": "execute_result"
    }
   ],
   "source": [
    "# Display head of \"data\"\n",
    "data.head(3)"
   ]
  },
  {
   "cell_type": "code",
   "execution_count": 38,
   "metadata": {},
   "outputs": [
    {
     "data": {
      "text/plain": [
       "1601                  7\n",
       "347082                7\n",
       "CA. 2343              7\n",
       "3101295               6\n",
       "CA 2144               6\n",
       "347088                6\n",
       "382652                5\n",
       "S.O.C. 14879          5\n",
       "347077                4\n",
       "113781                4\n",
       "113760                4\n",
       "W./C. 6608            4\n",
       "2666                  4\n",
       "17421                 4\n",
       "PC 17757              4\n",
       "19950                 4\n",
       "LINE                  4\n",
       "349909                4\n",
       "4133                  4\n",
       "248727                3\n",
       "SC/Paris 2123         3\n",
       "110152                3\n",
       "239853                3\n",
       "347742                3\n",
       "PC 17572              3\n",
       "C.A. 34651            3\n",
       "345773                3\n",
       "371110                3\n",
       "230080                3\n",
       "F.C.C. 13529          3\n",
       "29106                 3\n",
       "PC 17755              3\n",
       "C.A. 31921            3\n",
       "PC 17760              3\n",
       "35273                 3\n",
       "363291                3\n",
       "24160                 3\n",
       "110413                3\n",
       "PC 17582              3\n",
       "13502                 3\n",
       "113798                2\n",
       "2653                  2\n",
       "113505                2\n",
       "11751                 2\n",
       "392096                2\n",
       "230433                2\n",
       "PC 17608              2\n",
       "2699                  2\n",
       "364849                2\n",
       "358585                2\n",
       "                     ..\n",
       "349242                1\n",
       "27267                 1\n",
       "345779                1\n",
       "2647                  1\n",
       "26707                 1\n",
       "PC 17595              1\n",
       "349206                1\n",
       "367228                1\n",
       "19947                 1\n",
       "SOTON/O.Q. 3101306    1\n",
       "335677                1\n",
       "STON/O 2. 3101289     1\n",
       "3101276               1\n",
       "112059                1\n",
       "347061                1\n",
       "334912                1\n",
       "3474                  1\n",
       "350060                1\n",
       "2648                  1\n",
       "A/5. 2151             1\n",
       "SC/AH 3085            1\n",
       "36864                 1\n",
       "A.5. 11206            1\n",
       "C.A. 17248            1\n",
       "PC 17603              1\n",
       "16988                 1\n",
       "SOTON/O2 3101287      1\n",
       "350050                1\n",
       "112053                1\n",
       "2663                  1\n",
       "A/5. 3337             1\n",
       "2671                  1\n",
       "A/5. 13032            1\n",
       "SC/Paris 2163         1\n",
       "PP 4348               1\n",
       "234604                1\n",
       "248706                1\n",
       "228414                1\n",
       "STON/O 2. 3101292     1\n",
       "382651                1\n",
       "65303                 1\n",
       "28228                 1\n",
       "PC 17605              1\n",
       "SW/PP 751             1\n",
       "370377                1\n",
       "PC 17475              1\n",
       "113051                1\n",
       "364500                1\n",
       "C.A. 29178            1\n",
       "113786                1\n",
       "Name: Ticket, Length: 681, dtype: int64"
      ]
     },
     "execution_count": 38,
     "metadata": {},
     "output_type": "execute_result"
    }
   ],
   "source": [
    "data_raw.Ticket.value_counts()"
   ]
  },
  {
   "cell_type": "code",
   "execution_count": 39,
   "metadata": {
    "code_folding": [
     0
    ]
   },
   "outputs": [
    {
     "data": {
      "text/html": [
       "<div>\n",
       "<style scoped>\n",
       "    .dataframe tbody tr th:only-of-type {\n",
       "        vertical-align: middle;\n",
       "    }\n",
       "\n",
       "    .dataframe tbody tr th {\n",
       "        vertical-align: top;\n",
       "    }\n",
       "\n",
       "    .dataframe thead th {\n",
       "        text-align: right;\n",
       "    }\n",
       "</style>\n",
       "<table border=\"1\" class=\"dataframe\">\n",
       "  <thead>\n",
       "    <tr style=\"text-align: right;\">\n",
       "      <th></th>\n",
       "      <th>count</th>\n",
       "      <th>mean</th>\n",
       "      <th>std</th>\n",
       "      <th>min</th>\n",
       "      <th>25%</th>\n",
       "      <th>50%</th>\n",
       "      <th>75%</th>\n",
       "      <th>max</th>\n",
       "    </tr>\n",
       "  </thead>\n",
       "  <tbody>\n",
       "    <tr>\n",
       "      <th>Survived</th>\n",
       "      <td>891.0</td>\n",
       "      <td>0.38</td>\n",
       "      <td>0.49</td>\n",
       "      <td>0.00</td>\n",
       "      <td>0.00</td>\n",
       "      <td>0.00</td>\n",
       "      <td>1.0</td>\n",
       "      <td>1.00</td>\n",
       "    </tr>\n",
       "    <tr>\n",
       "      <th>Pclass</th>\n",
       "      <td>891.0</td>\n",
       "      <td>2.31</td>\n",
       "      <td>0.84</td>\n",
       "      <td>1.00</td>\n",
       "      <td>2.00</td>\n",
       "      <td>3.00</td>\n",
       "      <td>3.0</td>\n",
       "      <td>3.00</td>\n",
       "    </tr>\n",
       "    <tr>\n",
       "      <th>Age</th>\n",
       "      <td>714.0</td>\n",
       "      <td>29.70</td>\n",
       "      <td>14.53</td>\n",
       "      <td>0.42</td>\n",
       "      <td>20.12</td>\n",
       "      <td>28.00</td>\n",
       "      <td>38.0</td>\n",
       "      <td>80.00</td>\n",
       "    </tr>\n",
       "    <tr>\n",
       "      <th>SibSp</th>\n",
       "      <td>891.0</td>\n",
       "      <td>0.52</td>\n",
       "      <td>1.10</td>\n",
       "      <td>0.00</td>\n",
       "      <td>0.00</td>\n",
       "      <td>0.00</td>\n",
       "      <td>1.0</td>\n",
       "      <td>8.00</td>\n",
       "    </tr>\n",
       "    <tr>\n",
       "      <th>Parch</th>\n",
       "      <td>891.0</td>\n",
       "      <td>0.38</td>\n",
       "      <td>0.81</td>\n",
       "      <td>0.00</td>\n",
       "      <td>0.00</td>\n",
       "      <td>0.00</td>\n",
       "      <td>0.0</td>\n",
       "      <td>6.00</td>\n",
       "    </tr>\n",
       "    <tr>\n",
       "      <th>Fare</th>\n",
       "      <td>891.0</td>\n",
       "      <td>32.20</td>\n",
       "      <td>49.69</td>\n",
       "      <td>0.00</td>\n",
       "      <td>7.91</td>\n",
       "      <td>14.45</td>\n",
       "      <td>31.0</td>\n",
       "      <td>512.33</td>\n",
       "    </tr>\n",
       "  </tbody>\n",
       "</table>\n",
       "</div>"
      ],
      "text/plain": [
       "          count   mean    std   min    25%    50%   75%     max\n",
       "Survived  891.0   0.38   0.49  0.00   0.00   0.00   1.0    1.00\n",
       "Pclass    891.0   2.31   0.84  1.00   2.00   3.00   3.0    3.00\n",
       "Age       714.0  29.70  14.53  0.42  20.12  28.00  38.0   80.00\n",
       "SibSp     891.0   0.52   1.10  0.00   0.00   0.00   1.0    8.00\n",
       "Parch     891.0   0.38   0.81  0.00   0.00   0.00   0.0    6.00\n",
       "Fare      891.0  32.20  49.69  0.00   7.91  14.45  31.0  512.33"
      ]
     },
     "execution_count": 39,
     "metadata": {},
     "output_type": "execute_result"
    }
   ],
   "source": [
    "# Describe data (summary)\n",
    "data.describe().round(2).T"
   ]
  },
  {
   "cell_type": "code",
   "execution_count": 40,
   "metadata": {
    "code_folding": [
     0
    ]
   },
   "outputs": [
    {
     "name": "stdout",
     "output_type": "stream",
     "text": [
      "<class 'pandas.core.frame.DataFrame'>\n",
      "Int64Index: 891 entries, 1 to 891\n",
      "Data columns (total 11 columns):\n",
      "Survived    891 non-null int64\n",
      "Pclass      891 non-null int64\n",
      "Name        891 non-null object\n",
      "Sex         891 non-null object\n",
      "Age         714 non-null float64\n",
      "SibSp       891 non-null int64\n",
      "Parch       891 non-null int64\n",
      "Ticket      891 non-null object\n",
      "Fare        891 non-null float64\n",
      "Cabin       204 non-null object\n",
      "Embarked    889 non-null object\n",
      "dtypes: float64(2), int64(4), object(5)\n",
      "memory usage: 83.5+ KB\n"
     ]
    }
   ],
   "source": [
    "# List datatypes (data.info()) (pre-cleaning)\n",
    "data.info()"
   ]
  },
  {
   "cell_type": "code",
   "execution_count": 41,
   "metadata": {
    "code_folding": [
     0
    ]
   },
   "outputs": [
    {
     "data": {
      "text/plain": [
       "Survived      2\n",
       "Pclass        3\n",
       "Name        891\n",
       "Sex           2\n",
       "Age          88\n",
       "SibSp         7\n",
       "Parch         7\n",
       "Ticket      681\n",
       "Fare        248\n",
       "Cabin       147\n",
       "Embarked      3\n",
       "dtype: int64"
      ]
     },
     "execution_count": 41,
     "metadata": {},
     "output_type": "execute_result"
    }
   ],
   "source": [
    "# List unique entries per column\n",
    "data.nunique()"
   ]
  },
  {
   "cell_type": "code",
   "execution_count": 42,
   "metadata": {
    "code_folding": [
     0
    ]
   },
   "outputs": [
    {
     "name": "stdout",
     "output_type": "stream",
     "text": [
      "Cabin       687\n",
      "Age         177\n",
      "Embarked      2\n",
      "dtype: int64\n"
     ]
    }
   ],
   "source": [
    "# List missing values (pre-cleaning)\n",
    "\n",
    "\n",
    "def count_missing(data):\n",
    "    null_cols = data.columns[data.isnull().any(axis=0)]\n",
    "    X_null = data[null_cols].isnull().sum()\n",
    "    X_null = X_null.sort_values(ascending=False)\n",
    "    print(X_null)\n",
    "\n",
    "\n",
    "count_missing(data)"
   ]
  },
  {
   "cell_type": "markdown",
   "metadata": {},
   "source": [
    "# Data Cleaning"
   ]
  },
  {
   "cell_type": "code",
   "execution_count": 43,
   "metadata": {
    "code_folding": [
     0
    ]
   },
   "outputs": [],
   "source": [
    "# Fill missing values\n",
    "def cln_fill_missing_val(data):\n",
    "    data.Cabin.fillna(\"none\", inplace=True)\n",
    "    data.Age.fillna(data.Age.median(), inplace=True)"
   ]
  },
  {
   "cell_type": "code",
   "execution_count": 44,
   "metadata": {
    "code_folding": [
     0
    ]
   },
   "outputs": [],
   "source": [
    "# Remove columns with >10% missing values (in this case none were removed)\n",
    "def cln_rem_cols(data):\n",
    "    pass\n",
    "#    data.drop(\"Cabin\",inplace=True,axis=1)\n",
    "#    for col in data.columns:\n",
    "#        if data.col.isnull().sum() > data.shape[0]/10:\n",
    "#            data.drop(col,inplace=True,axis=1)"
   ]
  },
  {
   "cell_type": "code",
   "execution_count": 45,
   "metadata": {
    "code_folding": [
     0
    ]
   },
   "outputs": [],
   "source": [
    "# Remove rows with missing values\n",
    "def cln_rem_rows(data):\n",
    "    data.dropna(subset=[\"Embarked\"],inplace=True)"
   ]
  },
  {
   "cell_type": "code",
   "execution_count": 46,
   "metadata": {
    "code_folding": [
     0
    ]
   },
   "outputs": [],
   "source": [
    "# Bundle data cleaning steps as function \"data_cleaning\"\n",
    "def data_cleaning(data):\n",
    "    cln_fill_missing_val(data)\n",
    "    cln_rem_cols(data)\n",
    "    cln_rem_rows(data)"
   ]
  },
  {
   "cell_type": "code",
   "execution_count": 47,
   "metadata": {
    "code_folding": [
     0
    ]
   },
   "outputs": [],
   "source": [
    "# Apply data cleaning to dataset\n",
    "data_cleaning(data)\n",
    "data_clean = data.copy()"
   ]
  },
  {
   "cell_type": "code",
   "execution_count": 48,
   "metadata": {
    "code_folding": [
     0
    ]
   },
   "outputs": [],
   "source": [
    "# Assign data_clean to data\n",
    "data = data_clean.copy()"
   ]
  },
  {
   "cell_type": "markdown",
   "metadata": {},
   "source": [
    "# EDA"
   ]
  },
  {
   "cell_type": "code",
   "execution_count": 49,
   "metadata": {
    "code_folding": [
     0
    ]
   },
   "outputs": [
    {
     "data": {
      "application/vnd.plotly.v1+json": {
       "config": {
        "plotlyServerURL": "https://plot.ly"
       },
       "data": [
        {
         "alignmentgroup": "True",
         "bingroup": "x",
         "hovertemplate": "Survived=%{x}<br>count=%{y}<extra></extra>",
         "legendgroup": "",
         "marker": {
          "color": "#636efa"
         },
         "name": "",
         "nbinsx": 50,
         "offsetgroup": "",
         "orientation": "v",
         "showlegend": false,
         "type": "histogram",
         "x": [
          0,
          1,
          1,
          1,
          0,
          0,
          0,
          0,
          1,
          1,
          1,
          1,
          0,
          0,
          0,
          1,
          0,
          1,
          0,
          1,
          0,
          1,
          1,
          1,
          0,
          1,
          0,
          0,
          1,
          0,
          0,
          1,
          1,
          0,
          0,
          0,
          1,
          0,
          0,
          1,
          0,
          0,
          0,
          1,
          1,
          0,
          0,
          1,
          0,
          0,
          0,
          0,
          1,
          1,
          0,
          1,
          1,
          0,
          1,
          0,
          0,
          0,
          0,
          0,
          1,
          1,
          0,
          1,
          0,
          0,
          0,
          0,
          0,
          1,
          0,
          0,
          0,
          1,
          1,
          0,
          1,
          1,
          0,
          1,
          1,
          0,
          0,
          1,
          0,
          0,
          0,
          0,
          0,
          0,
          0,
          0,
          1,
          1,
          0,
          0,
          0,
          0,
          0,
          0,
          0,
          1,
          1,
          0,
          1,
          0,
          0,
          0,
          0,
          0,
          0,
          0,
          0,
          0,
          0,
          0,
          0,
          0,
          1,
          0,
          1,
          0,
          1,
          1,
          0,
          0,
          0,
          0,
          1,
          0,
          0,
          1,
          0,
          0,
          0,
          0,
          1,
          1,
          0,
          0,
          0,
          1,
          0,
          0,
          0,
          0,
          1,
          0,
          0,
          0,
          0,
          1,
          0,
          0,
          0,
          0,
          1,
          0,
          0,
          0,
          1,
          1,
          0,
          0,
          0,
          0,
          0,
          1,
          0,
          0,
          0,
          0,
          0,
          0,
          0,
          0,
          0,
          0,
          1,
          1,
          0,
          1,
          1,
          0,
          0,
          1,
          0,
          1,
          1,
          1,
          1,
          0,
          0,
          1,
          0,
          0,
          0,
          0,
          0,
          1,
          0,
          0,
          1,
          1,
          1,
          0,
          1,
          0,
          0,
          0,
          1,
          1,
          0,
          1,
          0,
          1,
          0,
          0,
          0,
          1,
          0,
          1,
          0,
          0,
          0,
          1,
          0,
          0,
          1,
          0,
          0,
          0,
          1,
          0,
          0,
          0,
          1,
          0,
          0,
          0,
          0,
          0,
          1,
          1,
          0,
          0,
          0,
          0,
          0,
          0,
          1,
          1,
          1,
          1,
          1,
          0,
          1,
          0,
          0,
          0,
          0,
          0,
          1,
          1,
          1,
          0,
          1,
          1,
          0,
          1,
          1,
          0,
          0,
          0,
          1,
          0,
          0,
          0,
          1,
          0,
          0,
          1,
          0,
          1,
          1,
          1,
          1,
          0,
          0,
          0,
          0,
          0,
          0,
          1,
          1,
          1,
          1,
          0,
          1,
          0,
          1,
          1,
          1,
          0,
          1,
          1,
          1,
          0,
          0,
          0,
          1,
          1,
          0,
          1,
          1,
          0,
          0,
          1,
          1,
          0,
          1,
          0,
          1,
          1,
          1,
          1,
          0,
          0,
          0,
          1,
          0,
          0,
          1,
          1,
          0,
          1,
          1,
          0,
          0,
          0,
          1,
          1,
          1,
          1,
          0,
          0,
          0,
          0,
          0,
          0,
          0,
          1,
          0,
          1,
          1,
          0,
          0,
          0,
          0,
          0,
          0,
          1,
          1,
          1,
          1,
          1,
          0,
          0,
          0,
          0,
          1,
          1,
          0,
          0,
          0,
          1,
          1,
          0,
          1,
          0,
          0,
          0,
          1,
          0,
          1,
          1,
          1,
          0,
          1,
          1,
          0,
          0,
          0,
          0,
          1,
          1,
          0,
          0,
          0,
          0,
          0,
          0,
          1,
          0,
          0,
          0,
          0,
          1,
          0,
          1,
          0,
          1,
          1,
          0,
          0,
          0,
          0,
          0,
          0,
          0,
          0,
          1,
          1,
          0,
          1,
          1,
          1,
          1,
          0,
          0,
          1,
          0,
          1,
          0,
          0,
          1,
          0,
          0,
          1,
          1,
          1,
          1,
          1,
          1,
          1,
          0,
          0,
          0,
          1,
          0,
          1,
          0,
          1,
          1,
          0,
          1,
          0,
          0,
          0,
          0,
          0,
          0,
          0,
          0,
          1,
          0,
          0,
          1,
          1,
          0,
          0,
          0,
          0,
          0,
          1,
          0,
          0,
          0,
          1,
          1,
          0,
          1,
          0,
          0,
          1,
          0,
          0,
          0,
          0,
          0,
          0,
          1,
          0,
          0,
          0,
          0,
          0,
          0,
          0,
          1,
          0,
          1,
          1,
          0,
          1,
          1,
          0,
          1,
          1,
          0,
          0,
          1,
          0,
          1,
          0,
          1,
          0,
          0,
          1,
          0,
          0,
          1,
          0,
          0,
          0,
          1,
          0,
          0,
          1,
          0,
          1,
          0,
          1,
          0,
          1,
          1,
          0,
          0,
          1,
          0,
          0,
          1,
          1,
          0,
          1,
          1,
          0,
          0,
          1,
          1,
          0,
          1,
          0,
          1,
          1,
          0,
          0,
          0,
          0,
          0,
          0,
          0,
          0,
          0,
          1,
          1,
          1,
          1,
          1,
          0,
          0,
          1,
          1,
          0,
          1,
          1,
          1,
          0,
          0,
          0,
          1,
          0,
          1,
          0,
          0,
          0,
          1,
          0,
          0,
          0,
          0,
          1,
          0,
          0,
          1,
          1,
          0,
          0,
          0,
          1,
          0,
          0,
          1,
          1,
          1,
          0,
          0,
          1,
          0,
          0,
          1,
          0,
          0,
          1,
          0,
          0,
          1,
          1,
          0,
          0,
          0,
          0,
          1,
          0,
          0,
          1,
          0,
          1,
          0,
          0,
          1,
          0,
          0,
          0,
          0,
          0,
          1,
          0,
          1,
          1,
          1,
          0,
          1,
          0,
          1,
          0,
          1,
          0,
          1,
          0,
          0,
          0,
          0,
          0,
          0,
          1,
          0,
          0,
          0,
          1,
          0,
          0,
          0,
          0,
          1,
          1,
          0,
          0,
          1,
          0,
          0,
          0,
          1,
          0,
          1,
          0,
          1,
          0,
          0,
          0,
          0,
          0,
          0,
          0,
          1,
          1,
          1,
          1,
          0,
          0,
          0,
          0,
          1,
          0,
          0,
          1,
          1,
          0,
          0,
          0,
          0,
          1,
          1,
          1,
          1,
          1,
          0,
          1,
          0,
          0,
          0,
          1,
          1,
          0,
          0,
          1,
          0,
          0,
          0,
          1,
          0,
          1,
          1,
          0,
          0,
          1,
          0,
          0,
          0,
          0,
          0,
          0,
          1,
          0,
          0,
          1,
          0,
          1,
          0,
          1,
          0,
          0,
          1,
          0,
          0,
          1,
          1,
          0,
          0,
          1,
          1,
          0,
          0,
          0,
          1,
          0,
          0,
          1,
          1,
          0,
          1,
          0,
          0,
          0,
          0,
          0,
          0,
          0,
          0,
          1,
          0,
          0,
          1,
          0,
          1,
          1,
          1,
          0,
          0,
          0,
          0,
          1,
          0,
          1,
          0,
          0,
          0,
          0,
          0,
          0,
          0,
          1,
          1,
          0,
          0,
          0,
          1,
          1,
          1,
          1,
          0,
          0,
          0,
          0,
          1,
          0,
          0,
          0,
          0,
          0,
          0,
          0,
          0,
          0,
          0,
          1,
          1,
          0,
          1,
          0,
          0,
          0,
          1,
          1,
          1,
          1,
          0,
          0,
          0,
          1,
          0,
          0,
          1,
          1,
          0,
          0,
          1,
          0,
          0,
          0,
          0,
          0,
          0,
          1,
          0,
          0,
          0,
          1,
          0,
          1,
          1,
          1,
          1,
          0,
          0,
          0,
          1,
          0,
          0,
          1,
          1,
          0,
          0,
          1,
          0,
          1,
          0,
          0,
          1,
          1,
          0,
          0,
          0,
          1,
          1,
          0,
          0,
          0,
          0,
          0,
          0,
          1,
          0,
          1,
          0
         ],
         "xaxis": "x",
         "yaxis": "y"
        }
       ],
       "layout": {
        "barmode": "relative",
        "legend": {
         "tracegroupgap": 0
        },
        "template": {
         "data": {
          "bar": [
           {
            "error_x": {
             "color": "#2a3f5f"
            },
            "error_y": {
             "color": "#2a3f5f"
            },
            "marker": {
             "line": {
              "color": "#E5ECF6",
              "width": 0.5
             }
            },
            "type": "bar"
           }
          ],
          "barpolar": [
           {
            "marker": {
             "line": {
              "color": "#E5ECF6",
              "width": 0.5
             }
            },
            "type": "barpolar"
           }
          ],
          "carpet": [
           {
            "aaxis": {
             "endlinecolor": "#2a3f5f",
             "gridcolor": "white",
             "linecolor": "white",
             "minorgridcolor": "white",
             "startlinecolor": "#2a3f5f"
            },
            "baxis": {
             "endlinecolor": "#2a3f5f",
             "gridcolor": "white",
             "linecolor": "white",
             "minorgridcolor": "white",
             "startlinecolor": "#2a3f5f"
            },
            "type": "carpet"
           }
          ],
          "choropleth": [
           {
            "colorbar": {
             "outlinewidth": 0,
             "ticks": ""
            },
            "type": "choropleth"
           }
          ],
          "contour": [
           {
            "colorbar": {
             "outlinewidth": 0,
             "ticks": ""
            },
            "colorscale": [
             [
              0,
              "#0d0887"
             ],
             [
              0.1111111111111111,
              "#46039f"
             ],
             [
              0.2222222222222222,
              "#7201a8"
             ],
             [
              0.3333333333333333,
              "#9c179e"
             ],
             [
              0.4444444444444444,
              "#bd3786"
             ],
             [
              0.5555555555555556,
              "#d8576b"
             ],
             [
              0.6666666666666666,
              "#ed7953"
             ],
             [
              0.7777777777777778,
              "#fb9f3a"
             ],
             [
              0.8888888888888888,
              "#fdca26"
             ],
             [
              1,
              "#f0f921"
             ]
            ],
            "type": "contour"
           }
          ],
          "contourcarpet": [
           {
            "colorbar": {
             "outlinewidth": 0,
             "ticks": ""
            },
            "type": "contourcarpet"
           }
          ],
          "heatmap": [
           {
            "colorbar": {
             "outlinewidth": 0,
             "ticks": ""
            },
            "colorscale": [
             [
              0,
              "#0d0887"
             ],
             [
              0.1111111111111111,
              "#46039f"
             ],
             [
              0.2222222222222222,
              "#7201a8"
             ],
             [
              0.3333333333333333,
              "#9c179e"
             ],
             [
              0.4444444444444444,
              "#bd3786"
             ],
             [
              0.5555555555555556,
              "#d8576b"
             ],
             [
              0.6666666666666666,
              "#ed7953"
             ],
             [
              0.7777777777777778,
              "#fb9f3a"
             ],
             [
              0.8888888888888888,
              "#fdca26"
             ],
             [
              1,
              "#f0f921"
             ]
            ],
            "type": "heatmap"
           }
          ],
          "heatmapgl": [
           {
            "colorbar": {
             "outlinewidth": 0,
             "ticks": ""
            },
            "colorscale": [
             [
              0,
              "#0d0887"
             ],
             [
              0.1111111111111111,
              "#46039f"
             ],
             [
              0.2222222222222222,
              "#7201a8"
             ],
             [
              0.3333333333333333,
              "#9c179e"
             ],
             [
              0.4444444444444444,
              "#bd3786"
             ],
             [
              0.5555555555555556,
              "#d8576b"
             ],
             [
              0.6666666666666666,
              "#ed7953"
             ],
             [
              0.7777777777777778,
              "#fb9f3a"
             ],
             [
              0.8888888888888888,
              "#fdca26"
             ],
             [
              1,
              "#f0f921"
             ]
            ],
            "type": "heatmapgl"
           }
          ],
          "histogram": [
           {
            "marker": {
             "colorbar": {
              "outlinewidth": 0,
              "ticks": ""
             }
            },
            "type": "histogram"
           }
          ],
          "histogram2d": [
           {
            "colorbar": {
             "outlinewidth": 0,
             "ticks": ""
            },
            "colorscale": [
             [
              0,
              "#0d0887"
             ],
             [
              0.1111111111111111,
              "#46039f"
             ],
             [
              0.2222222222222222,
              "#7201a8"
             ],
             [
              0.3333333333333333,
              "#9c179e"
             ],
             [
              0.4444444444444444,
              "#bd3786"
             ],
             [
              0.5555555555555556,
              "#d8576b"
             ],
             [
              0.6666666666666666,
              "#ed7953"
             ],
             [
              0.7777777777777778,
              "#fb9f3a"
             ],
             [
              0.8888888888888888,
              "#fdca26"
             ],
             [
              1,
              "#f0f921"
             ]
            ],
            "type": "histogram2d"
           }
          ],
          "histogram2dcontour": [
           {
            "colorbar": {
             "outlinewidth": 0,
             "ticks": ""
            },
            "colorscale": [
             [
              0,
              "#0d0887"
             ],
             [
              0.1111111111111111,
              "#46039f"
             ],
             [
              0.2222222222222222,
              "#7201a8"
             ],
             [
              0.3333333333333333,
              "#9c179e"
             ],
             [
              0.4444444444444444,
              "#bd3786"
             ],
             [
              0.5555555555555556,
              "#d8576b"
             ],
             [
              0.6666666666666666,
              "#ed7953"
             ],
             [
              0.7777777777777778,
              "#fb9f3a"
             ],
             [
              0.8888888888888888,
              "#fdca26"
             ],
             [
              1,
              "#f0f921"
             ]
            ],
            "type": "histogram2dcontour"
           }
          ],
          "mesh3d": [
           {
            "colorbar": {
             "outlinewidth": 0,
             "ticks": ""
            },
            "type": "mesh3d"
           }
          ],
          "parcoords": [
           {
            "line": {
             "colorbar": {
              "outlinewidth": 0,
              "ticks": ""
             }
            },
            "type": "parcoords"
           }
          ],
          "pie": [
           {
            "automargin": true,
            "type": "pie"
           }
          ],
          "scatter": [
           {
            "marker": {
             "colorbar": {
              "outlinewidth": 0,
              "ticks": ""
             }
            },
            "type": "scatter"
           }
          ],
          "scatter3d": [
           {
            "line": {
             "colorbar": {
              "outlinewidth": 0,
              "ticks": ""
             }
            },
            "marker": {
             "colorbar": {
              "outlinewidth": 0,
              "ticks": ""
             }
            },
            "type": "scatter3d"
           }
          ],
          "scattercarpet": [
           {
            "marker": {
             "colorbar": {
              "outlinewidth": 0,
              "ticks": ""
             }
            },
            "type": "scattercarpet"
           }
          ],
          "scattergeo": [
           {
            "marker": {
             "colorbar": {
              "outlinewidth": 0,
              "ticks": ""
             }
            },
            "type": "scattergeo"
           }
          ],
          "scattergl": [
           {
            "marker": {
             "colorbar": {
              "outlinewidth": 0,
              "ticks": ""
             }
            },
            "type": "scattergl"
           }
          ],
          "scattermapbox": [
           {
            "marker": {
             "colorbar": {
              "outlinewidth": 0,
              "ticks": ""
             }
            },
            "type": "scattermapbox"
           }
          ],
          "scatterpolar": [
           {
            "marker": {
             "colorbar": {
              "outlinewidth": 0,
              "ticks": ""
             }
            },
            "type": "scatterpolar"
           }
          ],
          "scatterpolargl": [
           {
            "marker": {
             "colorbar": {
              "outlinewidth": 0,
              "ticks": ""
             }
            },
            "type": "scatterpolargl"
           }
          ],
          "scatterternary": [
           {
            "marker": {
             "colorbar": {
              "outlinewidth": 0,
              "ticks": ""
             }
            },
            "type": "scatterternary"
           }
          ],
          "surface": [
           {
            "colorbar": {
             "outlinewidth": 0,
             "ticks": ""
            },
            "colorscale": [
             [
              0,
              "#0d0887"
             ],
             [
              0.1111111111111111,
              "#46039f"
             ],
             [
              0.2222222222222222,
              "#7201a8"
             ],
             [
              0.3333333333333333,
              "#9c179e"
             ],
             [
              0.4444444444444444,
              "#bd3786"
             ],
             [
              0.5555555555555556,
              "#d8576b"
             ],
             [
              0.6666666666666666,
              "#ed7953"
             ],
             [
              0.7777777777777778,
              "#fb9f3a"
             ],
             [
              0.8888888888888888,
              "#fdca26"
             ],
             [
              1,
              "#f0f921"
             ]
            ],
            "type": "surface"
           }
          ],
          "table": [
           {
            "cells": {
             "fill": {
              "color": "#EBF0F8"
             },
             "line": {
              "color": "white"
             }
            },
            "header": {
             "fill": {
              "color": "#C8D4E3"
             },
             "line": {
              "color": "white"
             }
            },
            "type": "table"
           }
          ]
         },
         "layout": {
          "annotationdefaults": {
           "arrowcolor": "#2a3f5f",
           "arrowhead": 0,
           "arrowwidth": 1
          },
          "coloraxis": {
           "colorbar": {
            "outlinewidth": 0,
            "ticks": ""
           }
          },
          "colorscale": {
           "diverging": [
            [
             0,
             "#8e0152"
            ],
            [
             0.1,
             "#c51b7d"
            ],
            [
             0.2,
             "#de77ae"
            ],
            [
             0.3,
             "#f1b6da"
            ],
            [
             0.4,
             "#fde0ef"
            ],
            [
             0.5,
             "#f7f7f7"
            ],
            [
             0.6,
             "#e6f5d0"
            ],
            [
             0.7,
             "#b8e186"
            ],
            [
             0.8,
             "#7fbc41"
            ],
            [
             0.9,
             "#4d9221"
            ],
            [
             1,
             "#276419"
            ]
           ],
           "sequential": [
            [
             0,
             "#0d0887"
            ],
            [
             0.1111111111111111,
             "#46039f"
            ],
            [
             0.2222222222222222,
             "#7201a8"
            ],
            [
             0.3333333333333333,
             "#9c179e"
            ],
            [
             0.4444444444444444,
             "#bd3786"
            ],
            [
             0.5555555555555556,
             "#d8576b"
            ],
            [
             0.6666666666666666,
             "#ed7953"
            ],
            [
             0.7777777777777778,
             "#fb9f3a"
            ],
            [
             0.8888888888888888,
             "#fdca26"
            ],
            [
             1,
             "#f0f921"
            ]
           ],
           "sequentialminus": [
            [
             0,
             "#0d0887"
            ],
            [
             0.1111111111111111,
             "#46039f"
            ],
            [
             0.2222222222222222,
             "#7201a8"
            ],
            [
             0.3333333333333333,
             "#9c179e"
            ],
            [
             0.4444444444444444,
             "#bd3786"
            ],
            [
             0.5555555555555556,
             "#d8576b"
            ],
            [
             0.6666666666666666,
             "#ed7953"
            ],
            [
             0.7777777777777778,
             "#fb9f3a"
            ],
            [
             0.8888888888888888,
             "#fdca26"
            ],
            [
             1,
             "#f0f921"
            ]
           ]
          },
          "colorway": [
           "#636efa",
           "#EF553B",
           "#00cc96",
           "#ab63fa",
           "#FFA15A",
           "#19d3f3",
           "#FF6692",
           "#B6E880",
           "#FF97FF",
           "#FECB52"
          ],
          "font": {
           "color": "#2a3f5f"
          },
          "geo": {
           "bgcolor": "white",
           "lakecolor": "white",
           "landcolor": "#E5ECF6",
           "showlakes": true,
           "showland": true,
           "subunitcolor": "white"
          },
          "hoverlabel": {
           "align": "left"
          },
          "hovermode": "closest",
          "mapbox": {
           "style": "light"
          },
          "paper_bgcolor": "white",
          "plot_bgcolor": "#E5ECF6",
          "polar": {
           "angularaxis": {
            "gridcolor": "white",
            "linecolor": "white",
            "ticks": ""
           },
           "bgcolor": "#E5ECF6",
           "radialaxis": {
            "gridcolor": "white",
            "linecolor": "white",
            "ticks": ""
           }
          },
          "scene": {
           "xaxis": {
            "backgroundcolor": "#E5ECF6",
            "gridcolor": "white",
            "gridwidth": 2,
            "linecolor": "white",
            "showbackground": true,
            "ticks": "",
            "zerolinecolor": "white"
           },
           "yaxis": {
            "backgroundcolor": "#E5ECF6",
            "gridcolor": "white",
            "gridwidth": 2,
            "linecolor": "white",
            "showbackground": true,
            "ticks": "",
            "zerolinecolor": "white"
           },
           "zaxis": {
            "backgroundcolor": "#E5ECF6",
            "gridcolor": "white",
            "gridwidth": 2,
            "linecolor": "white",
            "showbackground": true,
            "ticks": "",
            "zerolinecolor": "white"
           }
          },
          "shapedefaults": {
           "line": {
            "color": "#2a3f5f"
           }
          },
          "ternary": {
           "aaxis": {
            "gridcolor": "white",
            "linecolor": "white",
            "ticks": ""
           },
           "baxis": {
            "gridcolor": "white",
            "linecolor": "white",
            "ticks": ""
           },
           "bgcolor": "#E5ECF6",
           "caxis": {
            "gridcolor": "white",
            "linecolor": "white",
            "ticks": ""
           }
          },
          "title": {
           "x": 0.05
          },
          "xaxis": {
           "automargin": true,
           "gridcolor": "white",
           "linecolor": "white",
           "ticks": "",
           "title": {
            "standoff": 15
           },
           "zerolinecolor": "white",
           "zerolinewidth": 2
          },
          "yaxis": {
           "automargin": true,
           "gridcolor": "white",
           "linecolor": "white",
           "ticks": "",
           "title": {
            "standoff": 15
           },
           "zerolinecolor": "white",
           "zerolinewidth": 2
          }
         }
        },
        "title": {
         "text": "Survived Histogram"
        },
        "xaxis": {
         "anchor": "y",
         "domain": [
          0,
          1
         ],
         "title": {
          "text": "Survived"
         }
        },
        "yaxis": {
         "anchor": "x",
         "domain": [
          0,
          1
         ],
         "title": {
          "text": "count"
         }
        }
       }
      },
      "text/html": [
       "<div>\n",
       "        \n",
       "        \n",
       "            <div id=\"d3dc9ce3-b390-422e-a106-6cefb67eef8c\" class=\"plotly-graph-div\" style=\"height:525px; width:100%;\"></div>\n",
       "            <script type=\"text/javascript\">\n",
       "                require([\"plotly\"], function(Plotly) {\n",
       "                    window.PLOTLYENV=window.PLOTLYENV || {};\n",
       "                    \n",
       "                if (document.getElementById(\"d3dc9ce3-b390-422e-a106-6cefb67eef8c\")) {\n",
       "                    Plotly.newPlot(\n",
       "                        'd3dc9ce3-b390-422e-a106-6cefb67eef8c',\n",
       "                        [{\"alignmentgroup\": \"True\", \"bingroup\": \"x\", \"hovertemplate\": \"Survived=%{x}<br>count=%{y}<extra></extra>\", \"legendgroup\": \"\", \"marker\": {\"color\": \"#636efa\"}, \"name\": \"\", \"nbinsx\": 50, \"offsetgroup\": \"\", \"orientation\": \"v\", \"showlegend\": false, \"type\": \"histogram\", \"x\": [0, 1, 1, 1, 0, 0, 0, 0, 1, 1, 1, 1, 0, 0, 0, 1, 0, 1, 0, 1, 0, 1, 1, 1, 0, 1, 0, 0, 1, 0, 0, 1, 1, 0, 0, 0, 1, 0, 0, 1, 0, 0, 0, 1, 1, 0, 0, 1, 0, 0, 0, 0, 1, 1, 0, 1, 1, 0, 1, 0, 0, 0, 0, 0, 1, 1, 0, 1, 0, 0, 0, 0, 0, 1, 0, 0, 0, 1, 1, 0, 1, 1, 0, 1, 1, 0, 0, 1, 0, 0, 0, 0, 0, 0, 0, 0, 1, 1, 0, 0, 0, 0, 0, 0, 0, 1, 1, 0, 1, 0, 0, 0, 0, 0, 0, 0, 0, 0, 0, 0, 0, 0, 1, 0, 1, 0, 1, 1, 0, 0, 0, 0, 1, 0, 0, 1, 0, 0, 0, 0, 1, 1, 0, 0, 0, 1, 0, 0, 0, 0, 1, 0, 0, 0, 0, 1, 0, 0, 0, 0, 1, 0, 0, 0, 1, 1, 0, 0, 0, 0, 0, 1, 0, 0, 0, 0, 0, 0, 0, 0, 0, 0, 1, 1, 0, 1, 1, 0, 0, 1, 0, 1, 1, 1, 1, 0, 0, 1, 0, 0, 0, 0, 0, 1, 0, 0, 1, 1, 1, 0, 1, 0, 0, 0, 1, 1, 0, 1, 0, 1, 0, 0, 0, 1, 0, 1, 0, 0, 0, 1, 0, 0, 1, 0, 0, 0, 1, 0, 0, 0, 1, 0, 0, 0, 0, 0, 1, 1, 0, 0, 0, 0, 0, 0, 1, 1, 1, 1, 1, 0, 1, 0, 0, 0, 0, 0, 1, 1, 1, 0, 1, 1, 0, 1, 1, 0, 0, 0, 1, 0, 0, 0, 1, 0, 0, 1, 0, 1, 1, 1, 1, 0, 0, 0, 0, 0, 0, 1, 1, 1, 1, 0, 1, 0, 1, 1, 1, 0, 1, 1, 1, 0, 0, 0, 1, 1, 0, 1, 1, 0, 0, 1, 1, 0, 1, 0, 1, 1, 1, 1, 0, 0, 0, 1, 0, 0, 1, 1, 0, 1, 1, 0, 0, 0, 1, 1, 1, 1, 0, 0, 0, 0, 0, 0, 0, 1, 0, 1, 1, 0, 0, 0, 0, 0, 0, 1, 1, 1, 1, 1, 0, 0, 0, 0, 1, 1, 0, 0, 0, 1, 1, 0, 1, 0, 0, 0, 1, 0, 1, 1, 1, 0, 1, 1, 0, 0, 0, 0, 1, 1, 0, 0, 0, 0, 0, 0, 1, 0, 0, 0, 0, 1, 0, 1, 0, 1, 1, 0, 0, 0, 0, 0, 0, 0, 0, 1, 1, 0, 1, 1, 1, 1, 0, 0, 1, 0, 1, 0, 0, 1, 0, 0, 1, 1, 1, 1, 1, 1, 1, 0, 0, 0, 1, 0, 1, 0, 1, 1, 0, 1, 0, 0, 0, 0, 0, 0, 0, 0, 1, 0, 0, 1, 1, 0, 0, 0, 0, 0, 1, 0, 0, 0, 1, 1, 0, 1, 0, 0, 1, 0, 0, 0, 0, 0, 0, 1, 0, 0, 0, 0, 0, 0, 0, 1, 0, 1, 1, 0, 1, 1, 0, 1, 1, 0, 0, 1, 0, 1, 0, 1, 0, 0, 1, 0, 0, 1, 0, 0, 0, 1, 0, 0, 1, 0, 1, 0, 1, 0, 1, 1, 0, 0, 1, 0, 0, 1, 1, 0, 1, 1, 0, 0, 1, 1, 0, 1, 0, 1, 1, 0, 0, 0, 0, 0, 0, 0, 0, 0, 1, 1, 1, 1, 1, 0, 0, 1, 1, 0, 1, 1, 1, 0, 0, 0, 1, 0, 1, 0, 0, 0, 1, 0, 0, 0, 0, 1, 0, 0, 1, 1, 0, 0, 0, 1, 0, 0, 1, 1, 1, 0, 0, 1, 0, 0, 1, 0, 0, 1, 0, 0, 1, 1, 0, 0, 0, 0, 1, 0, 0, 1, 0, 1, 0, 0, 1, 0, 0, 0, 0, 0, 1, 0, 1, 1, 1, 0, 1, 0, 1, 0, 1, 0, 1, 0, 0, 0, 0, 0, 0, 1, 0, 0, 0, 1, 0, 0, 0, 0, 1, 1, 0, 0, 1, 0, 0, 0, 1, 0, 1, 0, 1, 0, 0, 0, 0, 0, 0, 0, 1, 1, 1, 1, 0, 0, 0, 0, 1, 0, 0, 1, 1, 0, 0, 0, 0, 1, 1, 1, 1, 1, 0, 1, 0, 0, 0, 1, 1, 0, 0, 1, 0, 0, 0, 1, 0, 1, 1, 0, 0, 1, 0, 0, 0, 0, 0, 0, 1, 0, 0, 1, 0, 1, 0, 1, 0, 0, 1, 0, 0, 1, 1, 0, 0, 1, 1, 0, 0, 0, 1, 0, 0, 1, 1, 0, 1, 0, 0, 0, 0, 0, 0, 0, 0, 1, 0, 0, 1, 0, 1, 1, 1, 0, 0, 0, 0, 1, 0, 1, 0, 0, 0, 0, 0, 0, 0, 1, 1, 0, 0, 0, 1, 1, 1, 1, 0, 0, 0, 0, 1, 0, 0, 0, 0, 0, 0, 0, 0, 0, 0, 1, 1, 0, 1, 0, 0, 0, 1, 1, 1, 1, 0, 0, 0, 1, 0, 0, 1, 1, 0, 0, 1, 0, 0, 0, 0, 0, 0, 1, 0, 0, 0, 1, 0, 1, 1, 1, 1, 0, 0, 0, 1, 0, 0, 1, 1, 0, 0, 1, 0, 1, 0, 0, 1, 1, 0, 0, 0, 1, 1, 0, 0, 0, 0, 0, 0, 1, 0, 1, 0], \"xaxis\": \"x\", \"yaxis\": \"y\"}],\n",
       "                        {\"barmode\": \"relative\", \"legend\": {\"tracegroupgap\": 0}, \"template\": {\"data\": {\"bar\": [{\"error_x\": {\"color\": \"#2a3f5f\"}, \"error_y\": {\"color\": \"#2a3f5f\"}, \"marker\": {\"line\": {\"color\": \"#E5ECF6\", \"width\": 0.5}}, \"type\": \"bar\"}], \"barpolar\": [{\"marker\": {\"line\": {\"color\": \"#E5ECF6\", \"width\": 0.5}}, \"type\": \"barpolar\"}], \"carpet\": [{\"aaxis\": {\"endlinecolor\": \"#2a3f5f\", \"gridcolor\": \"white\", \"linecolor\": \"white\", \"minorgridcolor\": \"white\", \"startlinecolor\": \"#2a3f5f\"}, \"baxis\": {\"endlinecolor\": \"#2a3f5f\", \"gridcolor\": \"white\", \"linecolor\": \"white\", \"minorgridcolor\": \"white\", \"startlinecolor\": \"#2a3f5f\"}, \"type\": \"carpet\"}], \"choropleth\": [{\"colorbar\": {\"outlinewidth\": 0, \"ticks\": \"\"}, \"type\": \"choropleth\"}], \"contour\": [{\"colorbar\": {\"outlinewidth\": 0, \"ticks\": \"\"}, \"colorscale\": [[0.0, \"#0d0887\"], [0.1111111111111111, \"#46039f\"], [0.2222222222222222, \"#7201a8\"], [0.3333333333333333, \"#9c179e\"], [0.4444444444444444, \"#bd3786\"], [0.5555555555555556, \"#d8576b\"], [0.6666666666666666, \"#ed7953\"], [0.7777777777777778, \"#fb9f3a\"], [0.8888888888888888, \"#fdca26\"], [1.0, \"#f0f921\"]], \"type\": \"contour\"}], \"contourcarpet\": [{\"colorbar\": {\"outlinewidth\": 0, \"ticks\": \"\"}, \"type\": \"contourcarpet\"}], \"heatmap\": [{\"colorbar\": {\"outlinewidth\": 0, \"ticks\": \"\"}, \"colorscale\": [[0.0, \"#0d0887\"], [0.1111111111111111, \"#46039f\"], [0.2222222222222222, \"#7201a8\"], [0.3333333333333333, \"#9c179e\"], [0.4444444444444444, \"#bd3786\"], [0.5555555555555556, \"#d8576b\"], [0.6666666666666666, \"#ed7953\"], [0.7777777777777778, \"#fb9f3a\"], [0.8888888888888888, \"#fdca26\"], [1.0, \"#f0f921\"]], \"type\": \"heatmap\"}], \"heatmapgl\": [{\"colorbar\": {\"outlinewidth\": 0, \"ticks\": \"\"}, \"colorscale\": [[0.0, \"#0d0887\"], [0.1111111111111111, \"#46039f\"], [0.2222222222222222, \"#7201a8\"], [0.3333333333333333, \"#9c179e\"], [0.4444444444444444, \"#bd3786\"], [0.5555555555555556, \"#d8576b\"], [0.6666666666666666, \"#ed7953\"], [0.7777777777777778, \"#fb9f3a\"], [0.8888888888888888, \"#fdca26\"], [1.0, \"#f0f921\"]], \"type\": \"heatmapgl\"}], \"histogram\": [{\"marker\": {\"colorbar\": {\"outlinewidth\": 0, \"ticks\": \"\"}}, \"type\": \"histogram\"}], \"histogram2d\": [{\"colorbar\": {\"outlinewidth\": 0, \"ticks\": \"\"}, \"colorscale\": [[0.0, \"#0d0887\"], [0.1111111111111111, \"#46039f\"], [0.2222222222222222, \"#7201a8\"], [0.3333333333333333, \"#9c179e\"], [0.4444444444444444, \"#bd3786\"], [0.5555555555555556, \"#d8576b\"], [0.6666666666666666, \"#ed7953\"], [0.7777777777777778, \"#fb9f3a\"], [0.8888888888888888, \"#fdca26\"], [1.0, \"#f0f921\"]], \"type\": \"histogram2d\"}], \"histogram2dcontour\": [{\"colorbar\": {\"outlinewidth\": 0, \"ticks\": \"\"}, \"colorscale\": [[0.0, \"#0d0887\"], [0.1111111111111111, \"#46039f\"], [0.2222222222222222, \"#7201a8\"], [0.3333333333333333, \"#9c179e\"], [0.4444444444444444, \"#bd3786\"], [0.5555555555555556, \"#d8576b\"], [0.6666666666666666, \"#ed7953\"], [0.7777777777777778, \"#fb9f3a\"], [0.8888888888888888, \"#fdca26\"], [1.0, \"#f0f921\"]], \"type\": \"histogram2dcontour\"}], \"mesh3d\": [{\"colorbar\": {\"outlinewidth\": 0, \"ticks\": \"\"}, \"type\": \"mesh3d\"}], \"parcoords\": [{\"line\": {\"colorbar\": {\"outlinewidth\": 0, \"ticks\": \"\"}}, \"type\": \"parcoords\"}], \"pie\": [{\"automargin\": true, \"type\": \"pie\"}], \"scatter\": [{\"marker\": {\"colorbar\": {\"outlinewidth\": 0, \"ticks\": \"\"}}, \"type\": \"scatter\"}], \"scatter3d\": [{\"line\": {\"colorbar\": {\"outlinewidth\": 0, \"ticks\": \"\"}}, \"marker\": {\"colorbar\": {\"outlinewidth\": 0, \"ticks\": \"\"}}, \"type\": \"scatter3d\"}], \"scattercarpet\": [{\"marker\": {\"colorbar\": {\"outlinewidth\": 0, \"ticks\": \"\"}}, \"type\": \"scattercarpet\"}], \"scattergeo\": [{\"marker\": {\"colorbar\": {\"outlinewidth\": 0, \"ticks\": \"\"}}, \"type\": \"scattergeo\"}], \"scattergl\": [{\"marker\": {\"colorbar\": {\"outlinewidth\": 0, \"ticks\": \"\"}}, \"type\": \"scattergl\"}], \"scattermapbox\": [{\"marker\": {\"colorbar\": {\"outlinewidth\": 0, \"ticks\": \"\"}}, \"type\": \"scattermapbox\"}], \"scatterpolar\": [{\"marker\": {\"colorbar\": {\"outlinewidth\": 0, \"ticks\": \"\"}}, \"type\": \"scatterpolar\"}], \"scatterpolargl\": [{\"marker\": {\"colorbar\": {\"outlinewidth\": 0, \"ticks\": \"\"}}, \"type\": \"scatterpolargl\"}], \"scatterternary\": [{\"marker\": {\"colorbar\": {\"outlinewidth\": 0, \"ticks\": \"\"}}, \"type\": \"scatterternary\"}], \"surface\": [{\"colorbar\": {\"outlinewidth\": 0, \"ticks\": \"\"}, \"colorscale\": [[0.0, \"#0d0887\"], [0.1111111111111111, \"#46039f\"], [0.2222222222222222, \"#7201a8\"], [0.3333333333333333, \"#9c179e\"], [0.4444444444444444, \"#bd3786\"], [0.5555555555555556, \"#d8576b\"], [0.6666666666666666, \"#ed7953\"], [0.7777777777777778, \"#fb9f3a\"], [0.8888888888888888, \"#fdca26\"], [1.0, \"#f0f921\"]], \"type\": \"surface\"}], \"table\": [{\"cells\": {\"fill\": {\"color\": \"#EBF0F8\"}, \"line\": {\"color\": \"white\"}}, \"header\": {\"fill\": {\"color\": \"#C8D4E3\"}, \"line\": {\"color\": \"white\"}}, \"type\": \"table\"}]}, \"layout\": {\"annotationdefaults\": {\"arrowcolor\": \"#2a3f5f\", \"arrowhead\": 0, \"arrowwidth\": 1}, \"coloraxis\": {\"colorbar\": {\"outlinewidth\": 0, \"ticks\": \"\"}}, \"colorscale\": {\"diverging\": [[0, \"#8e0152\"], [0.1, \"#c51b7d\"], [0.2, \"#de77ae\"], [0.3, \"#f1b6da\"], [0.4, \"#fde0ef\"], [0.5, \"#f7f7f7\"], [0.6, \"#e6f5d0\"], [0.7, \"#b8e186\"], [0.8, \"#7fbc41\"], [0.9, \"#4d9221\"], [1, \"#276419\"]], \"sequential\": [[0.0, \"#0d0887\"], [0.1111111111111111, \"#46039f\"], [0.2222222222222222, \"#7201a8\"], [0.3333333333333333, \"#9c179e\"], [0.4444444444444444, \"#bd3786\"], [0.5555555555555556, \"#d8576b\"], [0.6666666666666666, \"#ed7953\"], [0.7777777777777778, \"#fb9f3a\"], [0.8888888888888888, \"#fdca26\"], [1.0, \"#f0f921\"]], \"sequentialminus\": [[0.0, \"#0d0887\"], [0.1111111111111111, \"#46039f\"], [0.2222222222222222, \"#7201a8\"], [0.3333333333333333, \"#9c179e\"], [0.4444444444444444, \"#bd3786\"], [0.5555555555555556, \"#d8576b\"], [0.6666666666666666, \"#ed7953\"], [0.7777777777777778, \"#fb9f3a\"], [0.8888888888888888, \"#fdca26\"], [1.0, \"#f0f921\"]]}, \"colorway\": [\"#636efa\", \"#EF553B\", \"#00cc96\", \"#ab63fa\", \"#FFA15A\", \"#19d3f3\", \"#FF6692\", \"#B6E880\", \"#FF97FF\", \"#FECB52\"], \"font\": {\"color\": \"#2a3f5f\"}, \"geo\": {\"bgcolor\": \"white\", \"lakecolor\": \"white\", \"landcolor\": \"#E5ECF6\", \"showlakes\": true, \"showland\": true, \"subunitcolor\": \"white\"}, \"hoverlabel\": {\"align\": \"left\"}, \"hovermode\": \"closest\", \"mapbox\": {\"style\": \"light\"}, \"paper_bgcolor\": \"white\", \"plot_bgcolor\": \"#E5ECF6\", \"polar\": {\"angularaxis\": {\"gridcolor\": \"white\", \"linecolor\": \"white\", \"ticks\": \"\"}, \"bgcolor\": \"#E5ECF6\", \"radialaxis\": {\"gridcolor\": \"white\", \"linecolor\": \"white\", \"ticks\": \"\"}}, \"scene\": {\"xaxis\": {\"backgroundcolor\": \"#E5ECF6\", \"gridcolor\": \"white\", \"gridwidth\": 2, \"linecolor\": \"white\", \"showbackground\": true, \"ticks\": \"\", \"zerolinecolor\": \"white\"}, \"yaxis\": {\"backgroundcolor\": \"#E5ECF6\", \"gridcolor\": \"white\", \"gridwidth\": 2, \"linecolor\": \"white\", \"showbackground\": true, \"ticks\": \"\", \"zerolinecolor\": \"white\"}, \"zaxis\": {\"backgroundcolor\": \"#E5ECF6\", \"gridcolor\": \"white\", \"gridwidth\": 2, \"linecolor\": \"white\", \"showbackground\": true, \"ticks\": \"\", \"zerolinecolor\": \"white\"}}, \"shapedefaults\": {\"line\": {\"color\": \"#2a3f5f\"}}, \"ternary\": {\"aaxis\": {\"gridcolor\": \"white\", \"linecolor\": \"white\", \"ticks\": \"\"}, \"baxis\": {\"gridcolor\": \"white\", \"linecolor\": \"white\", \"ticks\": \"\"}, \"bgcolor\": \"#E5ECF6\", \"caxis\": {\"gridcolor\": \"white\", \"linecolor\": \"white\", \"ticks\": \"\"}}, \"title\": {\"x\": 0.05}, \"xaxis\": {\"automargin\": true, \"gridcolor\": \"white\", \"linecolor\": \"white\", \"ticks\": \"\", \"title\": {\"standoff\": 15}, \"zerolinecolor\": \"white\", \"zerolinewidth\": 2}, \"yaxis\": {\"automargin\": true, \"gridcolor\": \"white\", \"linecolor\": \"white\", \"ticks\": \"\", \"title\": {\"standoff\": 15}, \"zerolinecolor\": \"white\", \"zerolinewidth\": 2}}}, \"title\": {\"text\": \"Survived Histogram\"}, \"xaxis\": {\"anchor\": \"y\", \"domain\": [0.0, 1.0], \"title\": {\"text\": \"Survived\"}}, \"yaxis\": {\"anchor\": \"x\", \"domain\": [0.0, 1.0], \"title\": {\"text\": \"count\"}}},\n",
       "                        {\"responsive\": true}\n",
       "                    ).then(function(){\n",
       "                            \n",
       "var gd = document.getElementById('d3dc9ce3-b390-422e-a106-6cefb67eef8c');\n",
       "var x = new MutationObserver(function (mutations, observer) {{\n",
       "        var display = window.getComputedStyle(gd).display;\n",
       "        if (!display || display === 'none') {{\n",
       "            console.log([gd, 'removed!']);\n",
       "            Plotly.purge(gd);\n",
       "            observer.disconnect();\n",
       "        }}\n",
       "}});\n",
       "\n",
       "// Listen for the removal of the full notebook cells\n",
       "var notebookContainer = gd.closest('#notebook-container');\n",
       "if (notebookContainer) {{\n",
       "    x.observe(notebookContainer, {childList: true});\n",
       "}}\n",
       "\n",
       "// Listen for the clearing of the current output cell\n",
       "var outputEl = gd.closest('.output');\n",
       "if (outputEl) {{\n",
       "    x.observe(outputEl, {childList: true});\n",
       "}}\n",
       "\n",
       "                        })\n",
       "                };\n",
       "                });\n",
       "            </script>\n",
       "        </div>"
      ]
     },
     "metadata": {},
     "output_type": "display_data"
    }
   ],
   "source": [
    "# Histogram of price_log\n",
    "fig = px.histogram(\n",
    "    data,\n",
    "    x=\"Survived\",\n",
    "    title=\"Survived Histogram\",\n",
    "    #             color=\"host_is_superhost\",\n",
    "    nbins=50)\n",
    "\n",
    "fig.show()"
   ]
  },
  {
   "cell_type": "code",
   "execution_count": 50,
   "metadata": {
    "code_folding": [
     0
    ]
   },
   "outputs": [
    {
     "name": "stderr",
     "output_type": "stream",
     "text": [
      "C:\\Users\\Mauricio\\anaconda3\\envs\\airbnb42\\lib\\site-packages\\pandas\\plotting\\_tools.py:307: MatplotlibDeprecationWarning:\n",
      "\n",
      "\n",
      "The rowNum attribute was deprecated in Matplotlib 3.2 and will be removed two minor releases later. Use ax.get_subplotspec().rowspan.start instead.\n",
      "\n",
      "C:\\Users\\Mauricio\\anaconda3\\envs\\airbnb42\\lib\\site-packages\\pandas\\plotting\\_tools.py:307: MatplotlibDeprecationWarning:\n",
      "\n",
      "\n",
      "The colNum attribute was deprecated in Matplotlib 3.2 and will be removed two minor releases later. Use ax.get_subplotspec().colspan.start instead.\n",
      "\n",
      "C:\\Users\\Mauricio\\anaconda3\\envs\\airbnb42\\lib\\site-packages\\pandas\\plotting\\_tools.py:313: MatplotlibDeprecationWarning:\n",
      "\n",
      "\n",
      "The rowNum attribute was deprecated in Matplotlib 3.2 and will be removed two minor releases later. Use ax.get_subplotspec().rowspan.start instead.\n",
      "\n",
      "C:\\Users\\Mauricio\\anaconda3\\envs\\airbnb42\\lib\\site-packages\\pandas\\plotting\\_tools.py:313: MatplotlibDeprecationWarning:\n",
      "\n",
      "\n",
      "The colNum attribute was deprecated in Matplotlib 3.2 and will be removed two minor releases later. Use ax.get_subplotspec().colspan.start instead.\n",
      "\n"
     ]
    },
    {
     "data": {
      "image/png": "[encoded data removed]",
      "text/plain": [
       "<Figure size 720x1080 with 12 Axes>"
      ]
     },
     "metadata": {
      "needs_background": "light"
     },
     "output_type": "display_data"
    }
   ],
   "source": [
    "# Histogram of features\n",
    "data.hist(figsize=(10, 15),\n",
    "          bins=25,\n",
    "          layout=(int(len(data.columns) / 2) + 1, 2),\n",
    "          grid=False)\n",
    "plt.tight_layout()"
   ]
  },
  {
   "cell_type": "code",
   "execution_count": 51,
   "metadata": {
    "code_folding": [
     0
    ]
   },
   "outputs": [
    {
     "data": {
      "image/png": "[encoded data removed]",
      "text/plain": [
       "<Figure size 720x720 with 2 Axes>"
      ]
     },
     "metadata": {
      "needs_background": "light"
     },
     "output_type": "display_data"
    }
   ],
   "source": [
    "# Correlation heatmap\n",
    "#Generate a mask for the upper triangle\n",
    "mask = np.triu(np.ones_like(data.corr(), dtype=np.bool))\n",
    "\n",
    "#Set up the matplotlib figure\n",
    "f, ax = plt.subplots(figsize=(10, 10))\n",
    "\n",
    "#Draw the heatmap with the mask and correct aspect ratio\n",
    "sns.heatmap(data.corr(),\n",
    "            mask=mask,\n",
    "            cmap=[\"#FF5A5F\", \"#FF9A7F\", \"#50D6B9\", \"#FF9A7F\", \"#FF5A5F\"],\n",
    "            vmax=.5,\n",
    "            vmin=-.5,\n",
    "            center=0,\n",
    "            square=True,\n",
    "            linewidths=.5,\n",
    "            cbar_kws={\"shrink\": .5},\n",
    "            annot=True,\n",
    "            fmt=\".1g\");"
   ]
  },
  {
   "cell_type": "code",
   "execution_count": 52,
   "metadata": {
    "code_folding": [
     0
    ]
   },
   "outputs": [
    {
     "data": {
      "image/png": "[encoded data removed]",
      "text/plain": [
       "<Figure size 900x900 with 30 Axes>"
      ]
     },
     "metadata": {
      "needs_background": "light"
     },
     "output_type": "display_data"
    }
   ],
   "source": [
    "# Plot all variables as pairplot\n",
    "sns.pairplot(data,\n",
    "             kind=\"reg\",\n",
    "             vars=[\"Survived\", \"Age\", \"SibSp\", \"Parch\", \"Fare\"],\n",
    "             plot_kws={\n",
    "                 'line_kws': {\n",
    "                     'color': 'red'\n",
    "                 },\n",
    "                 'scatter_kws': {\n",
    "                     'alpha': 0.1\n",
    "                 }\n",
    "             });"
   ]
  },
  {
   "cell_type": "markdown",
   "metadata": {},
   "source": [
    "# Feature Engineering"
   ]
  },
  {
   "cell_type": "code",
   "execution_count": 53,
   "metadata": {
    "code_folding": [
     0
    ]
   },
   "outputs": [],
   "source": [
    "# Create numerical features\n",
    "def feat_num(data):\n",
    "    # Create \"Ticket_count\" to calculate people on same ticket\n",
    "    ticket_count = dict()\n",
    "    temp_df = pd.concat([data, X_test], sort=False)\n",
    "    for i in temp_df.Ticket:\n",
    "        ticket_count[i] = ticket_count.get(i, 0) + 1\n",
    "    data[\"Ticket_count\"] = [ticket_count[i] for i in data.Ticket]\n",
    "    \n",
    "    # Re-calculate \"Fare\" based on \"Ticket_count\" NOTE: This would not be possible in a real setting as it assumes we know Ticket of X_test beforehand\n",
    "    data.Fare = data.Fare / data.Ticket_count\n",
    "    \n",
    "    # Create \"Ticket_len\" to calculate length of ticket number\n",
    "    data[\"Ticket_len\"] = [len(el) for el in data.Ticket]\n",
    "    \n",
    "    # Create \"Family\" to count total number of family members\n",
    "    data[\"Family\"] = data.SibSp + data.Parch"
   ]
  },
  {
   "cell_type": "code",
   "execution_count": 54,
   "metadata": {
    "code_folding": [
     0
    ]
   },
   "outputs": [],
   "source": [
    "# Create categorical features\n",
    "def feat_cat(data):\n",
    "    # Convert \"Pclass\" to categorical\n",
    "    data['Pclass'] = data['Pclass'].astype(str)\n",
    "    \n",
    "    # Create \"Title\" from \"Name\"\n",
    "    data[\"Title\"] = [el.split(\", \")[1].split(\" \")[0].strip(\".\") for el in data.Name]\n",
    "    data.Title.replace(\n",
    "        [\"Col\", \"Mlle\", \"Major\", \"Capt\", \"Ms\", \"Mme\"],\n",
    "        [\"Duty\", \"Miss\", \"Duty\", \"Duty\", \"Miss\", \"Mrs\"],\n",
    "        inplace=True)\n",
    "    for idx in data.index:\n",
    "        if data.Title[idx] not in [\"Mr\", \"Miss\", \"Mrs\", \"Master\", \"Dr\", \"Rev\", \"Duty\"]:\n",
    "            data.Title[idx] = \"Other\"\n",
    "            \n",
    "    # Extract cabin category from \"Cabin\"\n",
    "    data.Cabin = [i[0].upper() for i in data.Cabin]\n",
    "    for idx in data.index:\n",
    "        if data.Cabin[idx] not in [\"A\", \"B\", \"C\", \"D\", \"E\", \"F\", \"N\"]:\n",
    "            data.Cabin[idx] = \"Other\""
   ]
  },
  {
   "cell_type": "code",
   "execution_count": 55,
   "metadata": {
    "code_folding": [
     0
    ]
   },
   "outputs": [],
   "source": [
    "# Create binary features (1/0)\n",
    "def feat_binary(data):\n",
    "    # Convert \"Sex\" from \"female/male\" to \"1/0\"\n",
    "    data.Sex.replace([\"female\", \"male\"], [1, 0], inplace=True)\n",
    "#    data.Cabin = np.where(data.Cabin == \"none\", 0, 1)\n",
    "    \n",
    "    # Create column to designate whether passenger is child (i.e. under 18)\n",
    "    data[\"is_child\"] = np.where(data.Age < 18, 1, 0)\n",
    "    \n",
    "    # Create column to designate whether passenger is married woman\n",
    "    data[\"is_married_female\"] = np.where(data.Title == \"Mrs\", 1, 0)"
   ]
  },
  {
   "cell_type": "code",
   "execution_count": 56,
   "metadata": {
    "code_folding": [
     0
    ]
   },
   "outputs": [],
   "source": [
    "# Remove columns not needed for predictive modeling\n",
    "def feat_rem_cols(data):\n",
    "    data.drop([\"Name\", \"Ticket\", \"Ticket_count\", \"SibSp\", \"Parch\"],inplace=True,axis=1)"
   ]
  },
  {
   "cell_type": "code",
   "execution_count": 57,
   "metadata": {
    "code_folding": [
     0
    ]
   },
   "outputs": [],
   "source": [
    "# Bundle feature engineering steps as function \"feature_engineering\"\n",
    "def feature_engineering(data):\n",
    "    feat_num(data)\n",
    "    feat_cat(data)\n",
    "    feat_binary(data)\n",
    "    feat_rem_cols(data)"
   ]
  },
  {
   "cell_type": "code",
   "execution_count": 58,
   "metadata": {
    "code_folding": [
     0
    ]
   },
   "outputs": [],
   "source": [
    "# Apply feature engineering to dataset\n",
    "feature_engineering(data)"
   ]
  },
  {
   "cell_type": "code",
   "execution_count": 59,
   "metadata": {
    "code_folding": [
     0
    ]
   },
   "outputs": [],
   "source": [
    "# Save data as data_engineered\n",
    "data_engineered = data.copy()"
   ]
  },
  {
   "cell_type": "markdown",
   "metadata": {},
   "source": [
    "# Preprocessing"
   ]
  },
  {
   "cell_type": "code",
   "execution_count": 62,
   "metadata": {
    "code_folding": [
     0
    ]
   },
   "outputs": [
    {
     "data": {
      "text/plain": [
       "['Pclass', 'Cabin', 'Embarked', 'Title']"
      ]
     },
     "execution_count": 62,
     "metadata": {},
     "output_type": "execute_result"
    }
   ],
   "source": [
    "# Create list for categorical predictors/features (used in \"Scaling with Preprocessing Pipeline\")\n",
    "cat_features = list(data.columns[data.dtypes == object])\n",
    "#cat_features.remove(\"neighbourhood\")\n",
    "#cat_features.remove(\"zipcode\")\n",
    "cat_features"
   ]
  },
  {
   "cell_type": "code",
   "execution_count": 63,
   "metadata": {
    "code_folding": [
     0
    ]
   },
   "outputs": [
    {
     "data": {
      "text/plain": [
       "['Sex', 'Age', 'Fare', 'Ticket_len', 'Family', 'is_child', 'is_married_female']"
      ]
     },
     "execution_count": 63,
     "metadata": {},
     "output_type": "execute_result"
    }
   ],
   "source": [
    "# Create list for numerical predictors/features (removing target column, used in \"Scaling with Preprocessing Pipeline\")\n",
    "num_features = list(data.columns[data.dtypes != object])\n",
    "num_features.remove(target)\n",
    "num_features"
   ]
  },
  {
   "cell_type": "code",
   "execution_count": 64,
   "metadata": {
    "code_folding": [
     0
    ]
   },
   "outputs": [],
   "source": [
    "# Build preprocessor pipeline\n",
    "# Pipeline for numerical features\n",
    "num_pipeline = Pipeline([('imputer_num', SimpleImputer(strategy='median')),\n",
    "                         ('std_scaler', StandardScaler())])\n",
    "\n",
    "# Pipeline for categorical features\n",
    "cat_pipeline = Pipeline([\n",
    "    ('imputer_cat', SimpleImputer(strategy='constant', fill_value='missing')),\n",
    "    ('1hot', OneHotEncoder(drop='first', handle_unknown='error'))\n",
    "])\n",
    "\n",
    "# Complete pipeline\n",
    "preprocessor = ColumnTransformer([('num', num_pipeline, num_features),\n",
    "                                  ('cat', cat_pipeline, cat_features)])"
   ]
  },
  {
   "cell_type": "code",
   "execution_count": 65,
   "metadata": {
    "code_folding": [
     0
    ]
   },
   "outputs": [],
   "source": [
    "# Separate X_train and y_train\n",
    "X_train = data.drop([target], axis=1)\n",
    "y_train = data[target]"
   ]
  },
  {
   "cell_type": "code",
   "execution_count": 66,
   "metadata": {
    "code_folding": [
     0
    ]
   },
   "outputs": [],
   "source": [
    "# Preprocess X_train\n",
    "X_train_prep_preprocessor = preprocessor.fit(X_train)\n",
    "X_train_prep = X_train_prep_preprocessor.transform(X_train)"
   ]
  },
  {
   "cell_type": "code",
   "execution_count": 67,
   "metadata": {
    "code_folding": [
     0
    ]
   },
   "outputs": [],
   "source": [
    "# Get feature names from pipeline after one-hot encoding as \"column_names\"\n",
    "onehot_columns = list(preprocessor.named_transformers_['cat']['1hot'].get_feature_names(cat_features))\n",
    "column_names = num_features + onehot_columns"
   ]
  },
  {
   "cell_type": "markdown",
   "metadata": {},
   "source": [
    "# Predictive Modeling"
   ]
  },
  {
   "cell_type": "code",
   "execution_count": 68,
   "metadata": {
    "code_folding": [
     0
    ]
   },
   "outputs": [],
   "source": [
    "# \"get_feat_importances\": Function for retrieving feature importances\n",
    "def get_feat_importances(model, column_names=column_names):\n",
    "    model=model\n",
    "    feat_importances = pd.DataFrame(model.feature_importances_,\n",
    "                 columns=['weight'],\n",
    "                 index=column_names)\n",
    "    feat_importances.sort_values('weight', inplace=True, ascending=False)\n",
    "    return feat_importances"
   ]
  },
  {
   "cell_type": "code",
   "execution_count": 69,
   "metadata": {
    "code_folding": [
     0
    ]
   },
   "outputs": [],
   "source": [
    "# \"model_eval\": Function for final evaluation of \"best model\"\n",
    "def model_eval(y, y_pred):\n",
    "    print(\"Accuracy: {:.2f}\".format(accuracy_score(y, y_pred)))\n",
    "    print(\"Recall: {:.2f}\".format(recall_score(y, y_pred)))\n",
    "    print(\"Precision: {:.2f}\".format(precision_score(y, y_pred)))\n",
    "    print(\"F1 Score: {:.2f}\".format(f1_score(y, y_pred)))\n",
    "    print(\"ROC/AUC: {:.2f}\".format(roc_auc_score(y, y_pred)))\n",
    "    print(\"Confusion Matrix: \\n\" + str(confusion_matrix(y, y_pred)))"
   ]
  },
  {
   "cell_type": "code",
   "execution_count": 70,
   "metadata": {
    "code_folding": [
     0
    ]
   },
   "outputs": [],
   "source": [
    "# \"clf_learning_curves\": Function to evaluate classification model based on learning curves\n",
    "def clf_learning_curves(model):\n",
    "# Fit model on training data\n",
    "    model = model\n",
    "    eval_set = [(X_train_prep, y_train), (X_test_prep, y_test)]\n",
    "    model.fit(X_train_prep, y_train, eval_metric=[\"error\", \"logloss\"], eval_set=eval_set, verbose=True)\n",
    "\n",
    "    # Make predictions for test data\n",
    "    y_pred = model.predict(X_test_prep)\n",
    "    predictions = [round(value) for value in y_pred]\n",
    "\n",
    "    # Evaluate predictions\n",
    "    accuracy = accuracy_score(y_test, predictions)\n",
    "    print(\"Accuracy: %.2f%%\" % (accuracy * 100.0))\n",
    "    \n",
    "    # Retrieve performance metrics\n",
    "    results = model.evals_result()\n",
    "    epochs = len(results['validation_0']['error'])\n",
    "    x_axis = range(0, epochs)\n",
    "    \n",
    "    # Plot log loss\n",
    "    fig, ax = pyplot.subplots()\n",
    "    ax.plot(x_axis, results['validation_0']['logloss'], label='Train')\n",
    "    ax.plot(x_axis, results['validation_1']['logloss'], label='Test')\n",
    "    ax.legend()\n",
    "    pyplot.ylabel('Log Loss')\n",
    "    pyplot.title('XGBoost Log Loss')\n",
    "    pyplot.show()\n",
    "    \n",
    "    # Plot classification error\n",
    "    fig, ax = pyplot.subplots()\n",
    "    ax.plot(x_axis, results['validation_0']['error'], label='Train')\n",
    "    ax.plot(x_axis, results['validation_1']['error'], label='Test')\n",
    "    ax.legend()\n",
    "    pyplot.ylabel('Classification Error')\n",
    "    pyplot.title('XGBoost Classification Error')\n",
    "    pyplot.show()"
   ]
  },
  {
   "cell_type": "markdown",
   "metadata": {},
   "source": [
    "## Apply standard classification models"
   ]
  },
  {
   "cell_type": "code",
   "execution_count": 71,
   "metadata": {
    "code_folding": [
     0
    ]
   },
   "outputs": [],
   "source": [
    "# Select models for comparison\n",
    "clf_models = {\n",
    "    'Baseline':\n",
    "    DummyClassifier(strategy='most_frequent'),\n",
    "    'LogReg':\n",
    "    LogisticRegression(max_iter=1000),\n",
    "    'KNN':\n",
    "    KNeighborsClassifier(),\n",
    "    'SVC':\n",
    "    SVC(kernel='rbf', C=1E6),\n",
    "    'Decision Tree':\n",
    "    DecisionTreeClassifier(criterion=\"gini\",\n",
    "                           max_depth=3,\n",
    "                           random_state=random_state),\n",
    "    'Random Forest':\n",
    "    RandomForestClassifier(random_state=random_state,\n",
    "                           max_features='sqrt',\n",
    "                           n_jobs=-1),\n",
    "    'Gradient Boost':\n",
    "    GradientBoostingClassifier(random_state=random_state),\n",
    "    'XGBoost':\n",
    "    XGBClassifier(),\n",
    "    'AdaBoost':\n",
    "    AdaBoostClassifier(random_state=random_state),\n",
    "    'CatBoost':\n",
    "    CatBoostClassifier()\n",
    "}"
   ]
  },
  {
   "cell_type": "code",
   "execution_count": 72,
   "metadata": {
    "code_folding": [
     0
    ],
    "scrolled": false
   },
   "outputs": [
    {
     "name": "stderr",
     "output_type": "stream",
     "text": [
      "[Parallel(n_jobs=-1)]: Using backend LokyBackend with 4 concurrent workers.\n",
      "[Parallel(n_jobs=-1)]: Done   2 out of   5 | elapsed:    1.8s remaining:    2.8s\n",
      "[Parallel(n_jobs=-1)]: Done   5 out of   5 | elapsed:    1.9s finished\n",
      "C:\\Users\\Mauricio\\anaconda3\\envs\\airbnb42\\lib\\site-packages\\sklearn\\metrics\\_classification.py:1221: UndefinedMetricWarning:\n",
      "\n",
      "Precision is ill-defined and being set to 0.0 in labels with no predicted samples. Use `zero_division` parameter to control this behavior.\n",
      "\n",
      "[Parallel(n_jobs=-1)]: Using backend LokyBackend with 4 concurrent workers.\n",
      "[Parallel(n_jobs=-1)]: Done   2 out of   5 | elapsed:    0.0s remaining:    0.0s\n"
     ]
    },
    {
     "name": "stdout",
     "output_type": "stream",
     "text": [
      "Confusion Matrix Baseline: \n",
      "[[549   0]\n",
      " [340   0]]\n",
      "Confusion Matrix LogReg: \n",
      "[[480  69]\n",
      " [ 82 258]]\n"
     ]
    },
    {
     "name": "stderr",
     "output_type": "stream",
     "text": [
      "[Parallel(n_jobs=-1)]: Done   5 out of   5 | elapsed:    0.0s finished\n",
      "[Parallel(n_jobs=-1)]: Using backend LokyBackend with 4 concurrent workers.\n",
      "[Parallel(n_jobs=-1)]: Done   2 out of   5 | elapsed:    0.0s remaining:    0.0s\n",
      "[Parallel(n_jobs=-1)]: Done   5 out of   5 | elapsed:    0.0s finished\n",
      "[Parallel(n_jobs=-1)]: Using backend LokyBackend with 4 concurrent workers.\n"
     ]
    },
    {
     "name": "stdout",
     "output_type": "stream",
     "text": [
      "Confusion Matrix KNN: \n",
      "[[479  70]\n",
      " [ 90 250]]\n"
     ]
    },
    {
     "name": "stderr",
     "output_type": "stream",
     "text": [
      "[Parallel(n_jobs=-1)]: Done   2 out of   5 | elapsed:    5.7s remaining:    8.6s\n",
      "[Parallel(n_jobs=-1)]: Done   5 out of   5 | elapsed:   14.1s finished\n",
      "[Parallel(n_jobs=-1)]: Using backend LokyBackend with 4 concurrent workers.\n",
      "[Parallel(n_jobs=-1)]: Done   2 out of   5 | elapsed:    0.0s remaining:    0.0s\n",
      "[Parallel(n_jobs=-1)]: Done   5 out of   5 | elapsed:    0.0s finished\n",
      "[Parallel(n_jobs=-1)]: Using backend LokyBackend with 4 concurrent workers.\n"
     ]
    },
    {
     "name": "stdout",
     "output_type": "stream",
     "text": [
      "Confusion Matrix SVC: \n",
      "[[442 107]\n",
      " [118 222]]\n",
      "Confusion Matrix Decision Tree: \n",
      "[[476  73]\n",
      " [ 92 248]]\n"
     ]
    },
    {
     "name": "stderr",
     "output_type": "stream",
     "text": [
      "[Parallel(n_jobs=-1)]: Done   2 out of   5 | elapsed:    0.2s remaining:    0.4s\n",
      "[Parallel(n_jobs=-1)]: Done   5 out of   5 | elapsed:    0.5s finished\n",
      "[Parallel(n_jobs=-1)]: Using backend LokyBackend with 4 concurrent workers.\n",
      "[Parallel(n_jobs=-1)]: Done   2 out of   5 | elapsed:    0.0s remaining:    0.1s\n"
     ]
    },
    {
     "name": "stdout",
     "output_type": "stream",
     "text": [
      "Confusion Matrix Random Forest: \n",
      "[[482  67]\n",
      " [ 92 248]]\n"
     ]
    },
    {
     "name": "stderr",
     "output_type": "stream",
     "text": [
      "[Parallel(n_jobs=-1)]: Done   5 out of   5 | elapsed:    0.2s finished\n",
      "[Parallel(n_jobs=-1)]: Using backend LokyBackend with 4 concurrent workers.\n",
      "[Parallel(n_jobs=-1)]: Done   2 out of   5 | elapsed:    0.0s remaining:    0.1s\n"
     ]
    },
    {
     "name": "stdout",
     "output_type": "stream",
     "text": [
      "Confusion Matrix Gradient Boost: \n",
      "[[495  54]\n",
      " [ 88 252]]\n"
     ]
    },
    {
     "name": "stderr",
     "output_type": "stream",
     "text": [
      "[Parallel(n_jobs=-1)]: Done   5 out of   5 | elapsed:    0.1s finished\n",
      "[Parallel(n_jobs=-1)]: Using backend LokyBackend with 4 concurrent workers.\n",
      "[Parallel(n_jobs=-1)]: Done   2 out of   5 | elapsed:    0.0s remaining:    0.1s\n"
     ]
    },
    {
     "name": "stdout",
     "output_type": "stream",
     "text": [
      "Confusion Matrix XGBoost: \n",
      "[[497  52]\n",
      " [ 92 248]]\n"
     ]
    },
    {
     "name": "stderr",
     "output_type": "stream",
     "text": [
      "[Parallel(n_jobs=-1)]: Done   5 out of   5 | elapsed:    0.1s finished\n",
      "[Parallel(n_jobs=-1)]: Using backend LokyBackend with 4 concurrent workers.\n"
     ]
    },
    {
     "name": "stdout",
     "output_type": "stream",
     "text": [
      "Confusion Matrix AdaBoost: \n",
      "[[470  79]\n",
      " [ 81 259]]\n"
     ]
    },
    {
     "name": "stderr",
     "output_type": "stream",
     "text": [
      "[Parallel(n_jobs=-1)]: Done   2 out of   5 | elapsed:    6.5s remaining:    9.8s\n"
     ]
    },
    {
     "name": "stdout",
     "output_type": "stream",
     "text": [
      "Confusion Matrix CatBoost: \n",
      "[[493  56]\n",
      " [ 87 253]]\n"
     ]
    },
    {
     "name": "stderr",
     "output_type": "stream",
     "text": [
      "[Parallel(n_jobs=-1)]: Done   5 out of   5 | elapsed:    8.8s finished\n"
     ]
    },
    {
     "data": {
      "text/html": [
       "<div>\n",
       "<style scoped>\n",
       "    .dataframe tbody tr th:only-of-type {\n",
       "        vertical-align: middle;\n",
       "    }\n",
       "\n",
       "    .dataframe tbody tr th {\n",
       "        vertical-align: top;\n",
       "    }\n",
       "\n",
       "    .dataframe thead th {\n",
       "        text-align: right;\n",
       "    }\n",
       "</style>\n",
       "<table border=\"1\" class=\"dataframe\">\n",
       "  <thead>\n",
       "    <tr style=\"text-align: right;\">\n",
       "      <th></th>\n",
       "      <th>Model</th>\n",
       "      <th>Accuracy</th>\n",
       "      <th>Recall</th>\n",
       "      <th>Precision</th>\n",
       "      <th>F1 Score</th>\n",
       "      <th>ROC/AUC</th>\n",
       "    </tr>\n",
       "  </thead>\n",
       "  <tbody>\n",
       "    <tr>\n",
       "      <th>0</th>\n",
       "      <td>Baseline</td>\n",
       "      <td>0.617548</td>\n",
       "      <td>0.617548</td>\n",
       "      <td>0.381365</td>\n",
       "      <td>0.471535</td>\n",
       "      <td>0.500000</td>\n",
       "    </tr>\n",
       "    <tr>\n",
       "      <th>1</th>\n",
       "      <td>LogReg</td>\n",
       "      <td>0.830146</td>\n",
       "      <td>0.830146</td>\n",
       "      <td>0.829194</td>\n",
       "      <td>0.829485</td>\n",
       "      <td>0.816570</td>\n",
       "    </tr>\n",
       "    <tr>\n",
       "      <th>2</th>\n",
       "      <td>KNN</td>\n",
       "      <td>0.820022</td>\n",
       "      <td>0.820022</td>\n",
       "      <td>0.818660</td>\n",
       "      <td>0.818905</td>\n",
       "      <td>0.803895</td>\n",
       "    </tr>\n",
       "    <tr>\n",
       "      <th>3</th>\n",
       "      <td>SVC</td>\n",
       "      <td>0.746907</td>\n",
       "      <td>0.746907</td>\n",
       "      <td>0.745490</td>\n",
       "      <td>0.746081</td>\n",
       "      <td>0.729021</td>\n",
       "    </tr>\n",
       "    <tr>\n",
       "      <th>4</th>\n",
       "      <td>Decision Tree</td>\n",
       "      <td>0.814398</td>\n",
       "      <td>0.814398</td>\n",
       "      <td>0.813000</td>\n",
       "      <td>0.813309</td>\n",
       "      <td>0.798221</td>\n",
       "    </tr>\n",
       "    <tr>\n",
       "      <th>5</th>\n",
       "      <td>Random Forest</td>\n",
       "      <td>0.821147</td>\n",
       "      <td>0.821147</td>\n",
       "      <td>0.819673</td>\n",
       "      <td>0.819725</td>\n",
       "      <td>0.803686</td>\n",
       "    </tr>\n",
       "    <tr>\n",
       "      <th>6</th>\n",
       "      <td>Gradient Boost</td>\n",
       "      <td>0.840270</td>\n",
       "      <td>0.840270</td>\n",
       "      <td>0.839294</td>\n",
       "      <td>0.838465</td>\n",
       "      <td>0.821408</td>\n",
       "    </tr>\n",
       "    <tr>\n",
       "      <th>7</th>\n",
       "      <td>XGBoost</td>\n",
       "      <td>0.838020</td>\n",
       "      <td>0.838020</td>\n",
       "      <td>0.837249</td>\n",
       "      <td>0.835805</td>\n",
       "      <td>0.817347</td>\n",
       "    </tr>\n",
       "    <tr>\n",
       "      <th>8</th>\n",
       "      <td>AdaBoost</td>\n",
       "      <td>0.820022</td>\n",
       "      <td>0.820022</td>\n",
       "      <td>0.819827</td>\n",
       "      <td>0.819921</td>\n",
       "      <td>0.808933</td>\n",
       "    </tr>\n",
       "    <tr>\n",
       "      <th>9</th>\n",
       "      <td>CatBoost</td>\n",
       "      <td>0.839145</td>\n",
       "      <td>0.839145</td>\n",
       "      <td>0.838056</td>\n",
       "      <td>0.837512</td>\n",
       "      <td>0.821057</td>\n",
       "    </tr>\n",
       "  </tbody>\n",
       "</table>\n",
       "</div>"
      ],
      "text/plain": [
       "            Model  Accuracy    Recall  Precision  F1 Score   ROC/AUC\n",
       "0        Baseline  0.617548  0.617548   0.381365  0.471535  0.500000\n",
       "1          LogReg  0.830146  0.830146   0.829194  0.829485  0.816570\n",
       "2             KNN  0.820022  0.820022   0.818660  0.818905  0.803895\n",
       "3             SVC  0.746907  0.746907   0.745490  0.746081  0.729021\n",
       "4   Decision Tree  0.814398  0.814398   0.813000  0.813309  0.798221\n",
       "5   Random Forest  0.821147  0.821147   0.819673  0.819725  0.803686\n",
       "6  Gradient Boost  0.840270  0.840270   0.839294  0.838465  0.821408\n",
       "7         XGBoost  0.838020  0.838020   0.837249  0.835805  0.817347\n",
       "8        AdaBoost  0.820022  0.820022   0.819827  0.819921  0.808933\n",
       "9        CatBoost  0.839145  0.839145   0.838056  0.837512  0.821057"
      ]
     },
     "execution_count": 72,
     "metadata": {},
     "output_type": "execute_result"
    }
   ],
   "source": [
    "# Calculate and display results\n",
    "results = pd.DataFrame(columns=['Model', 'Accuracy', 'Recall', 'Precision', 'F1 Score', 'ROC/AUC'])\n",
    "i = 0\n",
    "for m in clf_models.items():\n",
    "    # Building a full pipeline with our preprocessor and a Classifier\n",
    "    pipe = Pipeline([('preprocessor', preprocessor), (m[0], m[1])])\n",
    "    # Making predictions on the training set using cross validation as well as calculating the probabilities\n",
    "    y_train_pred = cross_val_predict(pipe,\n",
    "                                     X_train,\n",
    "                                     y_train.values.ravel(),\n",
    "                                     cv=5,\n",
    "                                     verbose=4,\n",
    "                                     n_jobs=-1)\n",
    "    # Calculating metrices\n",
    "    temp = pd.DataFrame(\n",
    "        {\n",
    "            'Model': m[0],\n",
    "            'Accuracy': accuracy_score(y_train, y_train_pred),\n",
    "            'Recall': recall_score(y_train, y_train_pred, average=\"weighted\"),\n",
    "            'Precision': precision_score(\n",
    "                y_train, y_train_pred, average=\"weighted\"),\n",
    "            'F1 Score': f1_score(y_train, y_train_pred, average=\"weighted\"),\n",
    "            'ROC/AUC': roc_auc_score(y_train, y_train_pred)\n",
    "        },\n",
    "        index=[i])\n",
    "    print(f\"Confusion Matrix {m[0]}: \\n\" +\n",
    "          str(confusion_matrix(y_train, y_train_pred)))\n",
    "    i += 1\n",
    "    results = pd.concat([results, temp])\n",
    "results"
   ]
  },
  {
   "cell_type": "markdown",
   "metadata": {},
   "source": [
    "## Model 1: Logistic regression"
   ]
  },
  {
   "cell_type": "code",
   "execution_count": 73,
   "metadata": {
    "code_folding": [
     0
    ]
   },
   "outputs": [],
   "source": [
    "# Create pipeline to use in RandomizedSearchCV (opt. GridSearchCV)\n",
    "pipeline_lr = Pipeline([('preprocessor', preprocessor),\n",
    "                            ('lr',\n",
    "                             LogisticRegression(penalty='l2',\n",
    "                                                max_iter=39,\n",
    "                                                C=0.02,\n",
    "                                                random_state=random_state,\n",
    "                                                l1_ratio=0.3,\n",
    "                                                n_jobs=-1))])"
   ]
  },
  {
   "cell_type": "markdown",
   "metadata": {},
   "source": [
    "**RandomizedSearchCV**"
   ]
  },
  {
   "cell_type": "code",
   "execution_count": 74,
   "metadata": {
    "code_folding": [
     0
    ]
   },
   "outputs": [],
   "source": [
    "# Define hyperparameter distribution\n",
    "param_distribs_lr = {\n",
    "    'lr__penalty': ['l1', 'l2'],\n",
    "    'lr__max_iter': randint(low=10, high=100),\n",
    "    'lr__C': [0.01, 0.02, 0.05, 0.1, 0.2, 0.3, 0.5, 1, 2, 5, 10, 20, 50, 100, 200, 500, 1000],\n",
    "    'lr__l1_ratio': [None, 0.1, 0.2, 0.3, 0.5, 0.9, 1]\n",
    "}"
   ]
  },
  {
   "cell_type": "code",
   "execution_count": 75,
   "metadata": {
    "code_folding": [
     0
    ]
   },
   "outputs": [
    {
     "name": "stdout",
     "output_type": "stream",
     "text": [
      "Fitting 5 folds for each of 30 candidates, totalling 150 fits\n"
     ]
    },
    {
     "name": "stderr",
     "output_type": "stream",
     "text": [
      "[Parallel(n_jobs=-1)]: Using backend LokyBackend with 4 concurrent workers.\n",
      "[Parallel(n_jobs=-1)]: Done  32 tasks      | elapsed:    0.4s\n",
      "[Parallel(n_jobs=-1)]: Done 150 out of 150 | elapsed:    2.7s finished\n",
      "C:\\Users\\Mauricio\\anaconda3\\envs\\airbnb42\\lib\\site-packages\\sklearn\\linear_model\\_logistic.py:1317: UserWarning:\n",
      "\n",
      "l1_ratio parameter is only used when penalty is 'elasticnet'. Got (penalty=l2)\n",
      "\n"
     ]
    }
   ],
   "source": [
    "# Create and fit RandomizedSearchCV, save \"best_model\"\n",
    "rnd_lr = RandomizedSearchCV(pipeline_lr,\n",
    "                                 param_distribs_lr,\n",
    "                                 cv=5,\n",
    "                                 scoring=scoring,\n",
    "                                 n_iter=30,\n",
    "                                 return_train_score=True,\n",
    "                                 verbose=4,\n",
    "                                 n_jobs=-1,\n",
    "                                 random_state=random_state)\n",
    "\n",
    "rnd_lr = rnd_lr.fit(X_train, y_train)"
   ]
  },
  {
   "cell_type": "code",
   "execution_count": 76,
   "metadata": {
    "code_folding": [
     0
    ]
   },
   "outputs": [],
   "source": [
    "# Save best model\n",
    "best_model_rnd_lr = rnd_lr.best_estimator_[\"lr\"]"
   ]
  },
  {
   "cell_type": "code",
   "execution_count": 77,
   "metadata": {
    "code_folding": [
     0
    ]
   },
   "outputs": [
    {
     "name": "stdout",
     "output_type": "stream",
     "text": [
      "Best score:\n",
      "0.83\n",
      "Best parameters:\n",
      "{'lr__C': 1, 'lr__l1_ratio': 0.9, 'lr__max_iter': 96, 'lr__penalty': 'l2'}\n"
     ]
    }
   ],
   "source": [
    "# Display best_score_, best_params_ and best_estimator_\n",
    "print('Best score:\\n{:.2f}'.format(rnd_lr.best_score_))\n",
    "print(\"Best parameters:\\n{}\".format(rnd_lr.best_params_))"
   ]
  },
  {
   "cell_type": "markdown",
   "metadata": {},
   "source": [
    "**Feature importances**"
   ]
  },
  {
   "cell_type": "code",
   "execution_count": 78,
   "metadata": {
    "code_folding": [
     0
    ]
   },
   "outputs": [],
   "source": [
    "# Get and print feature importances\n",
    "#grid_lr_fi = feat_importances(grid_lr, cv_model=True, named_steps='lr', column_names=column_names)\n",
    "#grid_lr_fi"
   ]
  },
  {
   "cell_type": "markdown",
   "metadata": {},
   "source": [
    "**Full evaluation scores**"
   ]
  },
  {
   "cell_type": "code",
   "execution_count": 79,
   "metadata": {
    "code_folding": [
     0
    ]
   },
   "outputs": [],
   "source": [
    "# Predict target with \"best model\"\n",
    "y_train_pred_lr = best_model_rnd_lr.predict(X_train_prep)"
   ]
  },
  {
   "cell_type": "code",
   "execution_count": 80,
   "metadata": {
    "code_folding": [
     0
    ]
   },
   "outputs": [
    {
     "name": "stdout",
     "output_type": "stream",
     "text": [
      "Accuracy: 0.83\n",
      "Recall: 0.76\n",
      "Precision: 0.79\n",
      "F1 Score: 0.78\n",
      "ROC/AUC: 0.82\n",
      "Confusion Matrix: \n",
      "[[482  67]\n",
      " [ 81 259]]\n"
     ]
    }
   ],
   "source": [
    "# Full evaluation of \"best model\"\n",
    "model_eval(y_train, y_train_pred_lr)"
   ]
  },
  {
   "cell_type": "markdown",
   "metadata": {},
   "source": [
    "## Model 2: XGBoost"
   ]
  },
  {
   "cell_type": "code",
   "execution_count": 81,
   "metadata": {
    "code_folding": [
     0
    ]
   },
   "outputs": [],
   "source": [
    "# Create pipeline to use in RandomizedSearchCV and GridSearchCV\n",
    "pipeline_xgb = Pipeline([('preprocessor', preprocessor),\n",
    "                             ('xgb',\n",
    "                              XGBClassifier(n_estimators=141,\n",
    "                                            bootstrap=True,\n",
    "                                            gamma=0.4,\n",
    "                                            learning_rate=0.35,\n",
    "                                            max_depth=3,\n",
    "                                            max_features=18,\n",
    "                                            random_state=random_state,\n",
    "                                            scoring=scoring,\n",
    "                                            n_jobs=-1))])"
   ]
  },
  {
   "cell_type": "markdown",
   "metadata": {},
   "source": [
    "**RandomizedSearchCV**"
   ]
  },
  {
   "cell_type": "code",
   "execution_count": 82,
   "metadata": {
    "code_folding": [
     0
    ]
   },
   "outputs": [],
   "source": [
    "# Define hyperparameter distribution\n",
    "param_distribs_xgb = {\n",
    "    'xgb__n_estimators': randint(low=10, high=200),\n",
    "    'xgb__bootstrap': [True, False],\n",
    "    'xgb__gamma': [0, 0.1, 0.2, 0.3, 0.4, 0.5, 0.6, 0.7, 0.8, 0.9, 1],\n",
    "    'xgb__max_depth': randint(low=1, high=5),\n",
    "    'xgb__learning_rate': [0.01, 0.02, 0.05, 0.1, 0.15, 0.2, 0.25, 0.3, 0.35, 0.4, 0.45, 0.5],\n",
    "    'xgb__max_features': randint(low=1, high=40)\n",
    "}"
   ]
  },
  {
   "cell_type": "code",
   "execution_count": 83,
   "metadata": {
    "code_folding": [
     0
    ]
   },
   "outputs": [
    {
     "name": "stderr",
     "output_type": "stream",
     "text": [
      "[Parallel(n_jobs=-1)]: Using backend LokyBackend with 4 concurrent workers.\n"
     ]
    },
    {
     "name": "stdout",
     "output_type": "stream",
     "text": [
      "Fitting 4 folds for each of 50 candidates, totalling 200 fits\n"
     ]
    },
    {
     "name": "stderr",
     "output_type": "stream",
     "text": [
      "[Parallel(n_jobs=-1)]: Done  17 tasks      | elapsed:    0.7s\n",
      "[Parallel(n_jobs=-1)]: Done 120 tasks      | elapsed:    3.5s\n",
      "[Parallel(n_jobs=-1)]: Done 193 out of 200 | elapsed:    5.9s remaining:    0.1s\n",
      "[Parallel(n_jobs=-1)]: Done 200 out of 200 | elapsed:    6.0s finished\n"
     ]
    }
   ],
   "source": [
    "# Create and fit RandomizedSearchCV, save \"best_model\"\n",
    "rnd_xgb = RandomizedSearchCV(pipeline_xgb,\n",
    "                             param_distribs_xgb,\n",
    "                             cv=4,\n",
    "                             n_iter=50,\n",
    "                             scoring=scoring,\n",
    "                             return_train_score=True,\n",
    "                             verbose=4,\n",
    "                             n_jobs=-1,\n",
    "                             random_state=random_state)\n",
    "\n",
    "rnd_xgb = rnd_xgb.fit(X_train, y_train)"
   ]
  },
  {
   "cell_type": "code",
   "execution_count": 84,
   "metadata": {
    "code_folding": [
     0
    ]
   },
   "outputs": [],
   "source": [
    "# Save best model\n",
    "best_model_rnd_xgb = rnd_xgb.best_estimator_[\"xgb\"]"
   ]
  },
  {
   "cell_type": "code",
   "execution_count": 85,
   "metadata": {
    "code_folding": [
     0
    ]
   },
   "outputs": [
    {
     "data": {
      "text/plain": [
       "make_scorer(accuracy_score)"
      ]
     },
     "execution_count": 85,
     "metadata": {},
     "output_type": "execute_result"
    }
   ],
   "source": [
    "# Validate use of correct scorer\n",
    "rnd_xgb.scorer_"
   ]
  },
  {
   "cell_type": "code",
   "execution_count": 86,
   "metadata": {
    "code_folding": [
     0
    ]
   },
   "outputs": [
    {
     "name": "stdout",
     "output_type": "stream",
     "text": [
      "Best score:\n",
      "0.84\n",
      "Best parameters:\n",
      "{'xgb__bootstrap': True, 'xgb__gamma': 1, 'xgb__learning_rate': 0.45, 'xgb__max_depth': 3, 'xgb__max_features': 28, 'xgb__n_estimators': 197}\n"
     ]
    }
   ],
   "source": [
    "# Display best_score_, best_params_ and best_estimator_\n",
    "print('Best score:\\n{:.2f}'.format(rnd_xgb.best_score_))\n",
    "print(\"Best parameters:\\n{}\".format(rnd_xgb.best_params_))"
   ]
  },
  {
   "cell_type": "code",
   "execution_count": 87,
   "metadata": {
    "code_folding": [
     0
    ],
    "scrolled": true
   },
   "outputs": [
    {
     "name": "stdout",
     "output_type": "stream",
     "text": [
      "0.8279248979921626 {'xgb__bootstrap': True, 'xgb__gamma': 0.3, 'xgb__learning_rate': 0.45, 'xgb__max_depth': 4, 'xgb__max_features': 21, 'xgb__n_estimators': 112}\n",
      "0.8346816547489193 {'xgb__bootstrap': False, 'xgb__gamma': 0.2, 'xgb__learning_rate': 0.25, 'xgb__max_depth': 3, 'xgb__max_features': 11, 'xgb__n_estimators': 97}\n",
      "0.8279299478851049 {'xgb__bootstrap': True, 'xgb__gamma': 0.3, 'xgb__learning_rate': 0.3, 'xgb__max_depth': 4, 'xgb__max_features': 3, 'xgb__n_estimators': 159}\n",
      "0.8380549832343555 {'xgb__bootstrap': True, 'xgb__gamma': 0.1, 'xgb__learning_rate': 0.3, 'xgb__max_depth': 4, 'xgb__max_features': 30, 'xgb__n_estimators': 47}\n",
      "0.8302023997091261 {'xgb__bootstrap': False, 'xgb__gamma': 0.4, 'xgb__learning_rate': 0.01, 'xgb__max_depth': 4, 'xgb__max_features': 22, 'xgb__n_estimators': 98}\n",
      "0.8425443380600331 {'xgb__bootstrap': True, 'xgb__gamma': 1, 'xgb__learning_rate': 0.45, 'xgb__max_depth': 3, 'xgb__max_features': 28, 'xgb__n_estimators': 197}\n",
      "0.8256776956328526 {'xgb__bootstrap': False, 'xgb__gamma': 0.2, 'xgb__learning_rate': 0.5, 'xgb__max_depth': 3, 'xgb__max_features': 3, 'xgb__n_estimators': 60}\n",
      "0.8335504787298509 {'xgb__bootstrap': True, 'xgb__gamma': 0.4, 'xgb__learning_rate': 0.35, 'xgb__max_depth': 3, 'xgb__max_features': 18, 'xgb__n_estimators': 141}\n",
      "0.8279198480992203 {'xgb__bootstrap': True, 'xgb__gamma': 0.1, 'xgb__learning_rate': 0.4, 'xgb__max_depth': 1, 'xgb__max_features': 26, 'xgb__n_estimators': 62}\n",
      "0.8312931765846565 {'xgb__bootstrap': False, 'xgb__gamma': 0.3, 'xgb__learning_rate': 0.5, 'xgb__max_depth': 3, 'xgb__max_features': 7, 'xgb__n_estimators': 181}\n",
      "0.8313335757281946 {'xgb__bootstrap': True, 'xgb__gamma': 0.7, 'xgb__learning_rate': 0.05, 'xgb__max_depth': 2, 'xgb__max_features': 17, 'xgb__n_estimators': 173}\n",
      "0.8324597018543207 {'xgb__bootstrap': False, 'xgb__gamma': 0.7, 'xgb__learning_rate': 0.1, 'xgb__max_depth': 2, 'xgb__max_features': 6, 'xgb__n_estimators': 63}\n",
      "0.8211428917706945 {'xgb__bootstrap': False, 'xgb__gamma': 0.3, 'xgb__learning_rate': 0.2, 'xgb__max_depth': 1, 'xgb__max_features': 18, 'xgb__n_estimators': 53}\n",
      "0.8279551973498163 {'xgb__bootstrap': False, 'xgb__gamma': 0.9, 'xgb__learning_rate': 0.1, 'xgb__max_depth': 2, 'xgb__max_features': 31, 'xgb__n_estimators': 57}\n",
      "0.8380549832343555 {'xgb__bootstrap': True, 'xgb__gamma': 0.7, 'xgb__learning_rate': 0.25, 'xgb__max_depth': 4, 'xgb__max_features': 21, 'xgb__n_estimators': 91}\n",
      "0.8301771502444149 {'xgb__bootstrap': True, 'xgb__gamma': 0.4, 'xgb__learning_rate': 0.3, 'xgb__max_depth': 2, 'xgb__max_features': 25, 'xgb__n_estimators': 197}\n",
      "0.7772946713529674 {'xgb__bootstrap': False, 'xgb__gamma': 0.8, 'xgb__learning_rate': 0.01, 'xgb__max_depth': 1, 'xgb__max_features': 7, 'xgb__n_estimators': 18}\n",
      "0.8144265341574759 {'xgb__bootstrap': False, 'xgb__gamma': 0, 'xgb__learning_rate': 0.5, 'xgb__max_depth': 4, 'xgb__max_features': 24, 'xgb__n_estimators': 72}\n",
      "0.8313032763705409 {'xgb__bootstrap': True, 'xgb__gamma': 0.2, 'xgb__learning_rate': 0.01, 'xgb__max_depth': 4, 'xgb__max_features': 35, 'xgb__n_estimators': 172}\n",
      "0.8302023997091261 {'xgb__bootstrap': True, 'xgb__gamma': 1, 'xgb__learning_rate': 0.15, 'xgb__max_depth': 2, 'xgb__max_features': 39, 'xgb__n_estimators': 50}\n",
      "0.838044883448471 {'xgb__bootstrap': False, 'xgb__gamma': 0.6, 'xgb__learning_rate': 0.35, 'xgb__max_depth': 4, 'xgb__max_features': 12, 'xgb__n_estimators': 171}\n",
      "0.8268391710095746 {'xgb__bootstrap': True, 'xgb__gamma': 0.6, 'xgb__learning_rate': 0.25, 'xgb__max_depth': 2, 'xgb__max_features': 24, 'xgb__n_estimators': 46}\n",
      "0.8380499333414132 {'xgb__bootstrap': True, 'xgb__gamma': 0.7, 'xgb__learning_rate': 0.2, 'xgb__max_depth': 3, 'xgb__max_features': 35, 'xgb__n_estimators': 110}\n",
      "0.7896467094897588 {'xgb__bootstrap': True, 'xgb__gamma': 0.2, 'xgb__learning_rate': 0.01, 'xgb__max_depth': 1, 'xgb__max_features': 26, 'xgb__n_estimators': 151}\n",
      "0.8380600331272976 {'xgb__bootstrap': True, 'xgb__gamma': 1, 'xgb__learning_rate': 0.35, 'xgb__max_depth': 3, 'xgb__max_features': 15, 'xgb__n_estimators': 99}\n",
      "0.8267886720801519 {'xgb__bootstrap': False, 'xgb__gamma': 0.2, 'xgb__learning_rate': 0.25, 'xgb__max_depth': 1, 'xgb__max_features': 32, 'xgb__n_estimators': 141}\n",
      "0.8335403789439664 {'xgb__bootstrap': False, 'xgb__gamma': 0.4, 'xgb__learning_rate': 0.25, 'xgb__max_depth': 3, 'xgb__max_features': 15, 'xgb__n_estimators': 180}\n",
      "0.8369187573223449 {'xgb__bootstrap': True, 'xgb__gamma': 0.3, 'xgb__learning_rate': 0.25, 'xgb__max_depth': 3, 'xgb__max_features': 22, 'xgb__n_estimators': 37}\n",
      "0.8278996485274512 {'xgb__bootstrap': False, 'xgb__gamma': 0.9, 'xgb__learning_rate': 0.35, 'xgb__max_depth': 1, 'xgb__max_features': 6, 'xgb__n_estimators': 37}\n",
      "0.8279248979921626 {'xgb__bootstrap': False, 'xgb__gamma': 0.3, 'xgb__learning_rate': 0.45, 'xgb__max_depth': 4, 'xgb__max_features': 28, 'xgb__n_estimators': 199}\n",
      "0.8335504787298509 {'xgb__bootstrap': True, 'xgb__gamma': 0, 'xgb__learning_rate': 0.35, 'xgb__max_depth': 3, 'xgb__max_features': 13, 'xgb__n_estimators': 12}\n",
      "0.839171009574597 {'xgb__bootstrap': True, 'xgb__gamma': 0.5, 'xgb__learning_rate': 0.3, 'xgb__max_depth': 3, 'xgb__max_features': 9, 'xgb__n_estimators': 71}\n",
      "0.8178301620005656 {'xgb__bootstrap': True, 'xgb__gamma': 0, 'xgb__learning_rate': 0.05, 'xgb__max_depth': 2, 'xgb__max_features': 24, 'xgb__n_estimators': 68}\n",
      "0.8324344523896093 {'xgb__bootstrap': False, 'xgb__gamma': 0.7, 'xgb__learning_rate': 0.35, 'xgb__max_depth': 4, 'xgb__max_features': 12, 'xgb__n_estimators': 48}\n",
      "0.7885205833636326 {'xgb__bootstrap': False, 'xgb__gamma': 0.2, 'xgb__learning_rate': 0.01, 'xgb__max_depth': 1, 'xgb__max_features': 17, 'xgb__n_estimators': 196}\n",
      "0.8301771502444149 {'xgb__bootstrap': True, 'xgb__gamma': 0.1, 'xgb__learning_rate': 0.02, 'xgb__max_depth': 4, 'xgb__max_features': 23, 'xgb__n_estimators': 138}\n",
      "0.8324294024966671 {'xgb__bootstrap': True, 'xgb__gamma': 0.1, 'xgb__learning_rate': 0.15, 'xgb__max_depth': 4, 'xgb__max_features': 26, 'xgb__n_estimators': 169}\n",
      "0.836923807215287 {'xgb__bootstrap': False, 'xgb__gamma': 0.6, 'xgb__learning_rate': 0.1, 'xgb__max_depth': 3, 'xgb__max_features': 11, 'xgb__n_estimators': 193}\n",
      "0.8324294024966671 {'xgb__bootstrap': True, 'xgb__gamma': 0, 'xgb__learning_rate': 0.2, 'xgb__max_depth': 4, 'xgb__max_features': 5, 'xgb__n_estimators': 125}\n",
      "0.8369389568941138 {'xgb__bootstrap': False, 'xgb__gamma': 0.5, 'xgb__learning_rate': 0.2, 'xgb__max_depth': 3, 'xgb__max_features': 16, 'xgb__n_estimators': 106}\n",
      "0.8346665050700925 {'xgb__bootstrap': True, 'xgb__gamma': 1, 'xgb__learning_rate': 0.2, 'xgb__max_depth': 4, 'xgb__max_features': 29, 'xgb__n_estimators': 12}\n",
      "0.8380448834484708 {'xgb__bootstrap': False, 'xgb__gamma': 1, 'xgb__learning_rate': 0.1, 'xgb__max_depth': 3, 'xgb__max_features': 26, 'xgb__n_estimators': 156}\n",
      "0.8278996485274512 {'xgb__bootstrap': False, 'xgb__gamma': 0.6, 'xgb__learning_rate': 0.1, 'xgb__max_depth': 1, 'xgb__max_features': 33, 'xgb__n_estimators': 177}\n",
      "0.8211933907001172 {'xgb__bootstrap': False, 'xgb__gamma': 0.6, 'xgb__learning_rate': 0.02, 'xgb__max_depth': 4, 'xgb__max_features': 1, 'xgb__n_estimators': 20}\n",
      "0.8335504787298509 {'xgb__bootstrap': False, 'xgb__gamma': 0.8, 'xgb__learning_rate': 0.35, 'xgb__max_depth': 2, 'xgb__max_features': 23, 'xgb__n_estimators': 168}\n",
      "0.8369238072152871 {'xgb__bootstrap': False, 'xgb__gamma': 0.9, 'xgb__learning_rate': 0.05, 'xgb__max_depth': 3, 'xgb__max_features': 16, 'xgb__n_estimators': 99}\n",
      "0.8324193027107826 {'xgb__bootstrap': False, 'xgb__gamma': 0.8, 'xgb__learning_rate': 0.1, 'xgb__max_depth': 4, 'xgb__max_features': 2, 'xgb__n_estimators': 138}\n",
      "0.8358027309821032 {'xgb__bootstrap': False, 'xgb__gamma': 0.4, 'xgb__learning_rate': 0.15, 'xgb__max_depth': 4, 'xgb__max_features': 9, 'xgb__n_estimators': 108}\n",
      "0.8414333616127339 {'xgb__bootstrap': True, 'xgb__gamma': 0.2, 'xgb__learning_rate': 0.1, 'xgb__max_depth': 4, 'xgb__max_features': 33, 'xgb__n_estimators': 161}\n",
      "0.8369389568941139 {'xgb__bootstrap': False, 'xgb__gamma': 1, 'xgb__learning_rate': 0.01, 'xgb__max_depth': 4, 'xgb__max_features': 36, 'xgb__n_estimators': 175}\n"
     ]
    }
   ],
   "source": [
    "# Print score and params for each fit\n",
    "cvres = rnd_xgb.cv_results_\n",
    "for mean_score, params in zip(cvres[\"mean_test_score\"], cvres[\"params\"]):\n",
    "    print(mean_score, params)"
   ]
  },
  {
   "cell_type": "markdown",
   "metadata": {},
   "source": [
    "**GridSearchCV**"
   ]
  },
  {
   "cell_type": "code",
   "execution_count": 88,
   "metadata": {
    "code_folding": [
     0
    ]
   },
   "outputs": [],
   "source": [
    "# Define hyperparameter grid\n",
    "param_grid_xgb = {\n",
    "#    'xgb__n_estimators': randint(low=10, high=200),\n",
    "#    'xgb__bootstrap': [True, False],\n",
    "    'xgb__gamma': [0.35, 0.4, 0.45],\n",
    "    'xgb__max_depth': [2, 3, 4],\n",
    "    'xgb__learning_rate': [0.32, 0.35, 0.38],\n",
    "#    'xgb__max_features': randint(low=1, high=40)\n",
    "}"
   ]
  },
  {
   "cell_type": "code",
   "execution_count": 89,
   "metadata": {
    "code_folding": [
     0
    ]
   },
   "outputs": [
    {
     "name": "stdout",
     "output_type": "stream",
     "text": [
      "Fitting 4 folds for each of 27 candidates, totalling 108 fits\n"
     ]
    },
    {
     "name": "stderr",
     "output_type": "stream",
     "text": [
      "C:\\Users\\Mauricio\\anaconda3\\envs\\airbnb42\\lib\\site-packages\\sklearn\\model_selection\\_search.py:282: UserWarning:\n",
      "\n",
      "The total space of parameters 27 is smaller than n_iter=50. Running 27 iterations. For exhaustive searches, use GridSearchCV.\n",
      "\n",
      "[Parallel(n_jobs=-1)]: Using backend LokyBackend with 4 concurrent workers.\n",
      "[Parallel(n_jobs=-1)]: Done  26 tasks      | elapsed:    0.9s\n",
      "[Parallel(n_jobs=-1)]: Done 101 out of 108 | elapsed:    3.5s remaining:    0.1s\n",
      "[Parallel(n_jobs=-1)]: Done 108 out of 108 | elapsed:    3.6s finished\n"
     ]
    }
   ],
   "source": [
    "# Create and fit GridSearchCV, save \"best_model\"\n",
    "grid_xgb = RandomizedSearchCV(pipeline_xgb,\n",
    "                             param_grid_xgb,\n",
    "                             cv=4,\n",
    "                             n_iter=50,\n",
    "                             scoring=scoring,\n",
    "                             return_train_score=True,\n",
    "                             verbose=4,\n",
    "                             n_jobs=-1,\n",
    "                             random_state=random_state)\n",
    "\n",
    "grid_xgb = grid_xgb.fit(X_train, y_train)"
   ]
  },
  {
   "cell_type": "code",
   "execution_count": 90,
   "metadata": {
    "code_folding": [
     0
    ]
   },
   "outputs": [],
   "source": [
    "# Save best model\n",
    "best_model_grid_xgb = grid_xgb.best_estimator_[\"xgb\"]"
   ]
  },
  {
   "cell_type": "code",
   "execution_count": 91,
   "metadata": {
    "code_folding": [
     0
    ]
   },
   "outputs": [
    {
     "name": "stdout",
     "output_type": "stream",
     "text": [
      "Best score:\n",
      "0.84\n",
      "Best parameters:\n",
      "{'xgb__max_depth': 3, 'xgb__learning_rate': 0.35, 'xgb__gamma': 0.35}\n"
     ]
    }
   ],
   "source": [
    "# Display best_score_, best_params_ and best_estimator_\n",
    "print('Best score:\\n{:.2f}'.format(grid_xgb.best_score_))\n",
    "print(\"Best parameters:\\n{}\".format(grid_xgb.best_params_))"
   ]
  },
  {
   "cell_type": "markdown",
   "metadata": {},
   "source": [
    "**Feature importances**"
   ]
  },
  {
   "cell_type": "code",
   "execution_count": 92,
   "metadata": {
    "code_folding": [
     0
    ]
   },
   "outputs": [
    {
     "data": {
      "text/html": [
       "<div>\n",
       "<style scoped>\n",
       "    .dataframe tbody tr th:only-of-type {\n",
       "        vertical-align: middle;\n",
       "    }\n",
       "\n",
       "    .dataframe tbody tr th {\n",
       "        vertical-align: top;\n",
       "    }\n",
       "\n",
       "    .dataframe thead th {\n",
       "        text-align: right;\n",
       "    }\n",
       "</style>\n",
       "<table border=\"1\" class=\"dataframe\">\n",
       "  <thead>\n",
       "    <tr style=\"text-align: right;\">\n",
       "      <th></th>\n",
       "      <th>weight</th>\n",
       "    </tr>\n",
       "  </thead>\n",
       "  <tbody>\n",
       "    <tr>\n",
       "      <th>Title_Mr</th>\n",
       "      <td>0.424974</td>\n",
       "    </tr>\n",
       "    <tr>\n",
       "      <th>Sex</th>\n",
       "      <td>0.143878</td>\n",
       "    </tr>\n",
       "    <tr>\n",
       "      <th>Pclass_3</th>\n",
       "      <td>0.118630</td>\n",
       "    </tr>\n",
       "    <tr>\n",
       "      <th>Cabin_N</th>\n",
       "      <td>0.061050</td>\n",
       "    </tr>\n",
       "    <tr>\n",
       "      <th>Family</th>\n",
       "      <td>0.033664</td>\n",
       "    </tr>\n",
       "    <tr>\n",
       "      <th>Title_Master</th>\n",
       "      <td>0.029718</td>\n",
       "    </tr>\n",
       "    <tr>\n",
       "      <th>Title_Rev</th>\n",
       "      <td>0.029551</td>\n",
       "    </tr>\n",
       "    <tr>\n",
       "      <th>Embarked_S</th>\n",
       "      <td>0.027895</td>\n",
       "    </tr>\n",
       "    <tr>\n",
       "      <th>Cabin_E</th>\n",
       "      <td>0.016087</td>\n",
       "    </tr>\n",
       "    <tr>\n",
       "      <th>Embarked_Q</th>\n",
       "      <td>0.015764</td>\n",
       "    </tr>\n",
       "    <tr>\n",
       "      <th>Fare</th>\n",
       "      <td>0.013728</td>\n",
       "    </tr>\n",
       "    <tr>\n",
       "      <th>Cabin_D</th>\n",
       "      <td>0.013409</td>\n",
       "    </tr>\n",
       "    <tr>\n",
       "      <th>Ticket_len</th>\n",
       "      <td>0.013104</td>\n",
       "    </tr>\n",
       "    <tr>\n",
       "      <th>Cabin_C</th>\n",
       "      <td>0.012904</td>\n",
       "    </tr>\n",
       "    <tr>\n",
       "      <th>Age</th>\n",
       "      <td>0.012678</td>\n",
       "    </tr>\n",
       "    <tr>\n",
       "      <th>Cabin_B</th>\n",
       "      <td>0.011277</td>\n",
       "    </tr>\n",
       "    <tr>\n",
       "      <th>is_married_female</th>\n",
       "      <td>0.007432</td>\n",
       "    </tr>\n",
       "    <tr>\n",
       "      <th>Pclass_2</th>\n",
       "      <td>0.007249</td>\n",
       "    </tr>\n",
       "    <tr>\n",
       "      <th>Title_Miss</th>\n",
       "      <td>0.007009</td>\n",
       "    </tr>\n",
       "    <tr>\n",
       "      <th>Cabin_F</th>\n",
       "      <td>0.000000</td>\n",
       "    </tr>\n",
       "    <tr>\n",
       "      <th>is_child</th>\n",
       "      <td>0.000000</td>\n",
       "    </tr>\n",
       "    <tr>\n",
       "      <th>Cabin_Other</th>\n",
       "      <td>0.000000</td>\n",
       "    </tr>\n",
       "    <tr>\n",
       "      <th>Title_Duty</th>\n",
       "      <td>0.000000</td>\n",
       "    </tr>\n",
       "    <tr>\n",
       "      <th>Title_Mrs</th>\n",
       "      <td>0.000000</td>\n",
       "    </tr>\n",
       "    <tr>\n",
       "      <th>Title_Other</th>\n",
       "      <td>0.000000</td>\n",
       "    </tr>\n",
       "  </tbody>\n",
       "</table>\n",
       "</div>"
      ],
      "text/plain": [
       "                     weight\n",
       "Title_Mr           0.424974\n",
       "Sex                0.143878\n",
       "Pclass_3           0.118630\n",
       "Cabin_N            0.061050\n",
       "Family             0.033664\n",
       "Title_Master       0.029718\n",
       "Title_Rev          0.029551\n",
       "Embarked_S         0.027895\n",
       "Cabin_E            0.016087\n",
       "Embarked_Q         0.015764\n",
       "Fare               0.013728\n",
       "Cabin_D            0.013409\n",
       "Ticket_len         0.013104\n",
       "Cabin_C            0.012904\n",
       "Age                0.012678\n",
       "Cabin_B            0.011277\n",
       "is_married_female  0.007432\n",
       "Pclass_2           0.007249\n",
       "Title_Miss         0.007009\n",
       "Cabin_F            0.000000\n",
       "is_child           0.000000\n",
       "Cabin_Other        0.000000\n",
       "Title_Duty         0.000000\n",
       "Title_Mrs          0.000000\n",
       "Title_Other        0.000000"
      ]
     },
     "execution_count": 92,
     "metadata": {},
     "output_type": "execute_result"
    }
   ],
   "source": [
    "# Get and print feature importances\n",
    "xgb_fi = get_feat_importances(best_model_grid_xgb)\n",
    "xgb_fi"
   ]
  },
  {
   "cell_type": "markdown",
   "metadata": {},
   "source": [
    "**Full evaluation scores**"
   ]
  },
  {
   "cell_type": "code",
   "execution_count": 93,
   "metadata": {
    "code_folding": [
     0
    ]
   },
   "outputs": [],
   "source": [
    "# Predict target with \"best model\"\n",
    "y_train_pred_xgb = best_model_grid_xgb.predict(X_train_prep)"
   ]
  },
  {
   "cell_type": "code",
   "execution_count": 94,
   "metadata": {
    "code_folding": [
     0
    ],
    "scrolled": true
   },
   "outputs": [
    {
     "name": "stdout",
     "output_type": "stream",
     "text": [
      "Accuracy: 0.91\n",
      "Recall: 0.84\n",
      "Precision: 0.93\n",
      "F1 Score: 0.88\n",
      "ROC/AUC: 0.90\n",
      "Confusion Matrix: \n",
      "[[526  23]\n",
      " [ 53 287]]\n"
     ]
    }
   ],
   "source": [
    "# Full evaluation of \"best model\"\n",
    "model_eval(y_train, y_train_pred_xgb)"
   ]
  },
  {
   "cell_type": "markdown",
   "metadata": {},
   "source": [
    "## Model 3: SVC"
   ]
  },
  {
   "cell_type": "code",
   "execution_count": 95,
   "metadata": {
    "code_folding": [
     0
    ]
   },
   "outputs": [],
   "source": [
    "# Create pipeline to use in RandomizedSearchCV and GridSearchCV\n",
    "pipeline_svc = Pipeline([('preprocessor', preprocessor),\n",
    "                         ('svc',\n",
    "                          SVC(kernel='rbf',\n",
    "                              C=50,\n",
    "                              degree=4,\n",
    "                              gamma=0.005,\n",
    "                              random_state=random_state))])"
   ]
  },
  {
   "cell_type": "markdown",
   "metadata": {},
   "source": [
    "**RandomizedSearchCV**"
   ]
  },
  {
   "cell_type": "code",
   "execution_count": 96,
   "metadata": {
    "code_folding": [
     0
    ]
   },
   "outputs": [],
   "source": [
    "# Define hyperparameter distribution\n",
    "param_distribs_svc = {\n",
    "    'svc__kernel': ['linear', 'poly', 'rbf'],\n",
    "    'svc__C': [0.1, 0.5, 0.8, 1, 1.5, 2, 3, 5, 10, 50, 100, 200, 300, 500, 1000],        # initial: [0.1, 0.5, 1, 2, 5, 10, 50, 100, 500, 1000]\n",
    "    'svc__gamma': [0.0001, 0.0005, 0.001, 0.005, 0.01, 0.05, 0.1, 0.5, 1],   # initial: [0.0001, 0.0005, 0.001, 0.005, 0.01, 0.05, 0.1, 1]\n",
    "    'svc__degree': randint(low=1, high=7)\n",
    "}"
   ]
  },
  {
   "cell_type": "code",
   "execution_count": 97,
   "metadata": {
    "code_folding": [
     0
    ]
   },
   "outputs": [
    {
     "name": "stdout",
     "output_type": "stream",
     "text": [
      "Fitting 5 folds for each of 20 candidates, totalling 100 fits\n"
     ]
    },
    {
     "name": "stderr",
     "output_type": "stream",
     "text": [
      "[Parallel(n_jobs=-1)]: Using backend LokyBackend with 4 concurrent workers.\n",
      "[Parallel(n_jobs=-1)]: Done  26 tasks      | elapsed:    1.0s\n",
      "[Parallel(n_jobs=-1)]: Done  93 out of 100 | elapsed:    6.6s remaining:    0.4s\n",
      "[Parallel(n_jobs=-1)]: Done 100 out of 100 | elapsed:   17.2s finished\n"
     ]
    }
   ],
   "source": [
    "# Create and fit RandomizedSearchCV, save \"best_model\"\n",
    "rnd_svc = RandomizedSearchCV(pipeline_svc,\n",
    "                             param_distribs_svc,\n",
    "                             cv=5,\n",
    "                             n_iter=20,\n",
    "                             scoring=scoring,\n",
    "                             return_train_score=True,\n",
    "                             verbose=4,\n",
    "                             n_jobs=-1,\n",
    "                             random_state=random_state)\n",
    "\n",
    "rnd_svc = rnd_svc.fit(X_train, y_train)"
   ]
  },
  {
   "cell_type": "code",
   "execution_count": 98,
   "metadata": {
    "code_folding": [
     0
    ]
   },
   "outputs": [],
   "source": [
    "# Save best model\n",
    "best_model_rnd_svc = rnd_svc.best_estimator_[\"svc\"]"
   ]
  },
  {
   "cell_type": "code",
   "execution_count": 99,
   "metadata": {
    "code_folding": [
     0
    ]
   },
   "outputs": [
    {
     "name": "stdout",
     "output_type": "stream",
     "text": [
      "Best score:\n",
      "0.83\n",
      "Best parameters:\n",
      "{'svc__C': 100, 'svc__degree': 3, 'svc__gamma': 0.001, 'svc__kernel': 'rbf'}\n"
     ]
    }
   ],
   "source": [
    "# Display best_score_, best_params_ and best_estimator_\n",
    "print('Best score:\\n{:.2f}'.format(rnd_svc.best_score_))\n",
    "print(\"Best parameters:\\n{}\".format(rnd_svc.best_params_))"
   ]
  },
  {
   "cell_type": "markdown",
   "metadata": {},
   "source": [
    "**Feature importances**"
   ]
  },
  {
   "cell_type": "code",
   "execution_count": 100,
   "metadata": {
    "code_folding": []
   },
   "outputs": [],
   "source": [
    "# Not applicable"
   ]
  },
  {
   "cell_type": "markdown",
   "metadata": {},
   "source": [
    "**Full evaluation scores**"
   ]
  },
  {
   "cell_type": "code",
   "execution_count": 101,
   "metadata": {
    "code_folding": [
     0
    ]
   },
   "outputs": [],
   "source": [
    "# Predict target with \"best model\"\n",
    "y_train_pred_svc = best_model_rnd_svc.predict(X_train_prep)"
   ]
  },
  {
   "cell_type": "code",
   "execution_count": 102,
   "metadata": {
    "code_folding": [
     0
    ],
    "scrolled": true
   },
   "outputs": [
    {
     "name": "stdout",
     "output_type": "stream",
     "text": [
      "Accuracy: 0.84\n",
      "Recall: 0.74\n",
      "Precision: 0.81\n",
      "F1 Score: 0.78\n",
      "ROC/AUC: 0.82\n",
      "Confusion Matrix: \n",
      "[[490  59]\n",
      " [ 87 253]]\n"
     ]
    }
   ],
   "source": [
    "# Full evaluation of \"best model\"\n",
    "model_eval(y_train, y_train_pred_svc)"
   ]
  },
  {
   "cell_type": "markdown",
   "metadata": {},
   "source": [
    "## Model 4: CatBoost"
   ]
  },
  {
   "cell_type": "code",
   "execution_count": 103,
   "metadata": {
    "code_folding": [
     0
    ]
   },
   "outputs": [],
   "source": [
    "# Create pipeline to use in RandomizedSearchCV and GridSearchCV\n",
    "pipeline_cat = Pipeline([('preprocessor', preprocessor),\n",
    "                             ('cat',\n",
    "                              CatBoostClassifier(n_estimators=150,\n",
    "                                                learning_rate=0.3,\n",
    "                                                l2_leaf_reg=4,\n",
    "     #                                           loss_function=scoring,\n",
    "                                                random_state=random_state,\n",
    "                                                depth=4))])"
   ]
  },
  {
   "cell_type": "code",
   "execution_count": 104,
   "metadata": {
    "code_folding": [
     0
    ]
   },
   "outputs": [],
   "source": [
    "# Define hyperparameter distribution\n",
    "param_distribs_cat = {\n",
    "    'cat__n_estimators': randint(low=20, high=200),    # initial: randint(low=10, high=200)\n",
    "    'cat__l2_leaf_reg': randint(low=1, high=11),       # initial: randint(low=1, high=15)\n",
    "    'cat__depth': randint(low=1, high=10),             # initial: randint(low=1, high=15)\n",
    "    'cat__learning_rate': [0.01, 0.05, 0.1, 0.15, 0.18, 0.2, 0.22, 0.25, 0.27, 0.3] # initial: [0.01, 0.02, 0.05, 0.1, 0.2, 0.3]\n",
    "}"
   ]
  },
  {
   "cell_type": "code",
   "execution_count": 105,
   "metadata": {
    "code_folding": [
     0
    ]
   },
   "outputs": [
    {
     "name": "stderr",
     "output_type": "stream",
     "text": [
      "[Parallel(n_jobs=-1)]: Using backend LokyBackend with 4 concurrent workers.\n"
     ]
    },
    {
     "name": "stdout",
     "output_type": "stream",
     "text": [
      "Fitting 5 folds for each of 15 candidates, totalling 75 fits\n"
     ]
    },
    {
     "name": "stderr",
     "output_type": "stream",
     "text": [
      "[Parallel(n_jobs=-1)]: Done  17 tasks      | elapsed:    5.1s\n",
      "[Parallel(n_jobs=-1)]: Done  75 out of  75 | elapsed:   18.1s finished\n"
     ]
    },
    {
     "name": "stdout",
     "output_type": "stream",
     "text": [
      "0:\tlearn: 0.5966584\ttotal: 55.9ms\tremaining: 6.04s\n",
      "1:\tlearn: 0.5332937\ttotal: 56.9ms\tremaining: 3.04s\n",
      "2:\tlearn: 0.5090960\ttotal: 57.7ms\tremaining: 2.04s\n",
      "3:\tlearn: 0.4750159\ttotal: 58.5ms\tremaining: 1.53s\n",
      "4:\tlearn: 0.4643254\ttotal: 59.3ms\tremaining: 1.23s\n",
      "5:\tlearn: 0.4504297\ttotal: 60.2ms\tremaining: 1.03s\n",
      "6:\tlearn: 0.4447734\ttotal: 61ms\tremaining: 888ms\n",
      "7:\tlearn: 0.4409681\ttotal: 61.8ms\tremaining: 780ms\n",
      "8:\tlearn: 0.4286434\ttotal: 62.6ms\tremaining: 695ms\n",
      "9:\tlearn: 0.4213027\ttotal: 63.4ms\tremaining: 628ms\n",
      "10:\tlearn: 0.4155053\ttotal: 64.2ms\tremaining: 572ms\n",
      "11:\tlearn: 0.4136831\ttotal: 65ms\tremaining: 526ms\n",
      "12:\tlearn: 0.4129890\ttotal: 65.8ms\tremaining: 486ms\n",
      "13:\tlearn: 0.4077057\ttotal: 66.6ms\tremaining: 452ms\n",
      "14:\tlearn: 0.4068551\ttotal: 67.5ms\tremaining: 423ms\n",
      "15:\tlearn: 0.4016326\ttotal: 68.3ms\tremaining: 397ms\n",
      "16:\tlearn: 0.3993234\ttotal: 69.1ms\tremaining: 374ms\n",
      "17:\tlearn: 0.3985037\ttotal: 69.8ms\tremaining: 353ms\n",
      "18:\tlearn: 0.3968679\ttotal: 70.6ms\tremaining: 334ms\n",
      "19:\tlearn: 0.3948553\ttotal: 71.4ms\tremaining: 318ms\n",
      "20:\tlearn: 0.3915970\ttotal: 72.2ms\tremaining: 303ms\n",
      "21:\tlearn: 0.3896391\ttotal: 73ms\tremaining: 289ms\n",
      "22:\tlearn: 0.3888015\ttotal: 73.7ms\tremaining: 276ms\n",
      "23:\tlearn: 0.3870255\ttotal: 74.5ms\tremaining: 264ms\n",
      "24:\tlearn: 0.3855872\ttotal: 75.2ms\tremaining: 253ms\n",
      "25:\tlearn: 0.3835129\ttotal: 76ms\tremaining: 243ms\n",
      "26:\tlearn: 0.3825906\ttotal: 76.8ms\tremaining: 233ms\n",
      "27:\tlearn: 0.3821474\ttotal: 77.6ms\tremaining: 224ms\n",
      "28:\tlearn: 0.3811883\ttotal: 78.4ms\tremaining: 216ms\n",
      "29:\tlearn: 0.3793867\ttotal: 79.2ms\tremaining: 209ms\n",
      "30:\tlearn: 0.3792449\ttotal: 80ms\tremaining: 201ms\n",
      "31:\tlearn: 0.3774321\ttotal: 80.7ms\tremaining: 194ms\n",
      "32:\tlearn: 0.3770332\ttotal: 81.5ms\tremaining: 188ms\n",
      "33:\tlearn: 0.3732966\ttotal: 82.2ms\tremaining: 181ms\n",
      "34:\tlearn: 0.3717626\ttotal: 83ms\tremaining: 176ms\n",
      "35:\tlearn: 0.3714563\ttotal: 83.8ms\tremaining: 170ms\n",
      "36:\tlearn: 0.3707491\ttotal: 84.6ms\tremaining: 165ms\n",
      "37:\tlearn: 0.3693129\ttotal: 85.3ms\tremaining: 159ms\n",
      "38:\tlearn: 0.3690816\ttotal: 86.1ms\tremaining: 155ms\n",
      "39:\tlearn: 0.3680588\ttotal: 86.8ms\tremaining: 150ms\n",
      "40:\tlearn: 0.3657707\ttotal: 87.6ms\tremaining: 145ms\n",
      "41:\tlearn: 0.3648207\ttotal: 88.4ms\tremaining: 141ms\n",
      "42:\tlearn: 0.3634112\ttotal: 89.2ms\tremaining: 137ms\n",
      "43:\tlearn: 0.3632213\ttotal: 89.9ms\tremaining: 133ms\n",
      "44:\tlearn: 0.3617168\ttotal: 90.7ms\tremaining: 129ms\n",
      "45:\tlearn: 0.3602823\ttotal: 91.4ms\tremaining: 125ms\n",
      "46:\tlearn: 0.3601060\ttotal: 92.1ms\tremaining: 122ms\n",
      "47:\tlearn: 0.3586998\ttotal: 92.9ms\tremaining: 118ms\n",
      "48:\tlearn: 0.3567741\ttotal: 93.6ms\tremaining: 115ms\n",
      "49:\tlearn: 0.3564051\ttotal: 94.3ms\tremaining: 111ms\n",
      "50:\tlearn: 0.3550286\ttotal: 95.1ms\tremaining: 108ms\n",
      "51:\tlearn: 0.3539133\ttotal: 95.9ms\tremaining: 105ms\n",
      "52:\tlearn: 0.3527553\ttotal: 96.6ms\tremaining: 102ms\n",
      "53:\tlearn: 0.3518097\ttotal: 97.4ms\tremaining: 99.2ms\n",
      "54:\tlearn: 0.3516700\ttotal: 98.1ms\tremaining: 96.3ms\n",
      "55:\tlearn: 0.3510409\ttotal: 98.9ms\tremaining: 93.6ms\n",
      "56:\tlearn: 0.3492239\ttotal: 99.7ms\tremaining: 90.9ms\n",
      "57:\tlearn: 0.3479753\ttotal: 100ms\tremaining: 88.3ms\n",
      "58:\tlearn: 0.3469668\ttotal: 101ms\tremaining: 85.7ms\n",
      "59:\tlearn: 0.3468853\ttotal: 102ms\tremaining: 83.2ms\n",
      "60:\tlearn: 0.3455332\ttotal: 103ms\tremaining: 80.8ms\n",
      "61:\tlearn: 0.3443005\ttotal: 103ms\tremaining: 78.4ms\n",
      "62:\tlearn: 0.3436473\ttotal: 104ms\tremaining: 76.2ms\n",
      "63:\tlearn: 0.3435825\ttotal: 105ms\tremaining: 73.9ms\n",
      "64:\tlearn: 0.3423661\ttotal: 106ms\tremaining: 71.7ms\n",
      "65:\tlearn: 0.3415886\ttotal: 107ms\tremaining: 69.5ms\n",
      "66:\tlearn: 0.3407512\ttotal: 107ms\tremaining: 67.4ms\n",
      "67:\tlearn: 0.3395234\ttotal: 108ms\tremaining: 65.4ms\n",
      "68:\tlearn: 0.3375412\ttotal: 110ms\tremaining: 63.5ms\n",
      "69:\tlearn: 0.3373505\ttotal: 111ms\tremaining: 61.7ms\n",
      "70:\tlearn: 0.3360010\ttotal: 111ms\tremaining: 59.7ms\n",
      "71:\tlearn: 0.3359522\ttotal: 112ms\tremaining: 57.7ms\n",
      "72:\tlearn: 0.3342342\ttotal: 113ms\tremaining: 55.8ms\n",
      "73:\tlearn: 0.3337279\ttotal: 114ms\tremaining: 53.9ms\n",
      "74:\tlearn: 0.3326732\ttotal: 115ms\tremaining: 52.1ms\n",
      "75:\tlearn: 0.3325971\ttotal: 116ms\tremaining: 50.2ms\n",
      "76:\tlearn: 0.3316286\ttotal: 117ms\tremaining: 48.4ms\n",
      "77:\tlearn: 0.3310837\ttotal: 117ms\tremaining: 46.6ms\n",
      "78:\tlearn: 0.3299682\ttotal: 118ms\tremaining: 44.9ms\n",
      "79:\tlearn: 0.3299150\ttotal: 119ms\tremaining: 43.1ms\n",
      "80:\tlearn: 0.3298499\ttotal: 120ms\tremaining: 41.4ms\n",
      "81:\tlearn: 0.3291280\ttotal: 121ms\tremaining: 39.7ms\n",
      "82:\tlearn: 0.3282818\ttotal: 122ms\tremaining: 38.1ms\n",
      "83:\tlearn: 0.3262934\ttotal: 122ms\tremaining: 36.4ms\n",
      "84:\tlearn: 0.3256451\ttotal: 123ms\tremaining: 34.8ms\n",
      "85:\tlearn: 0.3245371\ttotal: 124ms\tremaining: 33.2ms\n",
      "86:\tlearn: 0.3235331\ttotal: 125ms\tremaining: 31.6ms\n",
      "87:\tlearn: 0.3230635\ttotal: 126ms\tremaining: 30ms\n",
      "88:\tlearn: 0.3223535\ttotal: 127ms\tremaining: 28.4ms\n",
      "89:\tlearn: 0.3220429\ttotal: 128ms\tremaining: 27ms\n",
      "90:\tlearn: 0.3217987\ttotal: 129ms\tremaining: 25.5ms\n",
      "91:\tlearn: 0.3208438\ttotal: 130ms\tremaining: 24ms\n",
      "92:\tlearn: 0.3204714\ttotal: 131ms\tremaining: 22.5ms\n",
      "93:\tlearn: 0.3202940\ttotal: 132ms\tremaining: 21ms\n",
      "94:\tlearn: 0.3194035\ttotal: 132ms\tremaining: 19.5ms\n",
      "95:\tlearn: 0.3188780\ttotal: 133ms\tremaining: 18.1ms\n",
      "96:\tlearn: 0.3180177\ttotal: 134ms\tremaining: 16.6ms\n",
      "97:\tlearn: 0.3178610\ttotal: 135ms\tremaining: 15.2ms\n",
      "98:\tlearn: 0.3172003\ttotal: 136ms\tremaining: 13.8ms\n",
      "99:\tlearn: 0.3167801\ttotal: 137ms\tremaining: 12.3ms\n",
      "100:\tlearn: 0.3163892\ttotal: 138ms\tremaining: 10.9ms\n",
      "101:\tlearn: 0.3157040\ttotal: 139ms\tremaining: 9.51ms\n",
      "102:\tlearn: 0.3147129\ttotal: 139ms\tremaining: 8.12ms\n",
      "103:\tlearn: 0.3135561\ttotal: 141ms\tremaining: 6.76ms\n",
      "104:\tlearn: 0.3129449\ttotal: 141ms\tremaining: 5.39ms\n",
      "105:\tlearn: 0.3125767\ttotal: 142ms\tremaining: 4.03ms\n",
      "106:\tlearn: 0.3124397\ttotal: 143ms\tremaining: 2.68ms\n",
      "107:\tlearn: 0.3118903\ttotal: 144ms\tremaining: 1.33ms\n",
      "108:\tlearn: 0.3113349\ttotal: 145ms\tremaining: 0us\n"
     ]
    }
   ],
   "source": [
    "# Create and fit RandomizedSearchCV, save \"best_model\"\n",
    "rnd_cat = RandomizedSearchCV(pipeline_cat,\n",
    "                                 param_distribs_cat,\n",
    "                                 cv=5,\n",
    "                                 scoring=scoring,\n",
    "                                 n_iter=15,\n",
    "                                 return_train_score=True,\n",
    "                                 verbose=4,\n",
    "                                 n_jobs=-1,\n",
    "                                 random_state=random_state)\n",
    "\n",
    "rnd_cat = rnd_cat.fit(X_train, y_train)"
   ]
  },
  {
   "cell_type": "code",
   "execution_count": 106,
   "metadata": {
    "code_folding": [
     0
    ]
   },
   "outputs": [],
   "source": [
    "# Save best model\n",
    "best_model_rnd_cat = rnd_cat.best_estimator_[\"cat\"]"
   ]
  },
  {
   "cell_type": "code",
   "execution_count": 107,
   "metadata": {
    "code_folding": [
     0
    ]
   },
   "outputs": [
    {
     "name": "stdout",
     "output_type": "stream",
     "text": [
      "Best score:\n",
      "0.84\n",
      "Best parameters:\n",
      "{'cat__depth': 2, 'cat__l2_leaf_reg': 10, 'cat__learning_rate': 0.27, 'cat__n_estimators': 109}\n"
     ]
    }
   ],
   "source": [
    "# Display best_score_, best_params_ and best_estimator_\n",
    "print('Best score:\\n{:.2f}'.format(rnd_cat.best_score_))\n",
    "print(\"Best parameters:\\n{}\".format(rnd_cat.best_params_))"
   ]
  },
  {
   "cell_type": "markdown",
   "metadata": {},
   "source": [
    "**Feature importances**"
   ]
  },
  {
   "cell_type": "code",
   "execution_count": 108,
   "metadata": {
    "code_folding": [
     0
    ]
   },
   "outputs": [
    {
     "data": {
      "text/html": [
       "<div>\n",
       "<style scoped>\n",
       "    .dataframe tbody tr th:only-of-type {\n",
       "        vertical-align: middle;\n",
       "    }\n",
       "\n",
       "    .dataframe tbody tr th {\n",
       "        vertical-align: top;\n",
       "    }\n",
       "\n",
       "    .dataframe thead th {\n",
       "        text-align: right;\n",
       "    }\n",
       "</style>\n",
       "<table border=\"1\" class=\"dataframe\">\n",
       "  <thead>\n",
       "    <tr style=\"text-align: right;\">\n",
       "      <th></th>\n",
       "      <th>weight</th>\n",
       "    </tr>\n",
       "  </thead>\n",
       "  <tbody>\n",
       "    <tr>\n",
       "      <th>Sex</th>\n",
       "      <td>22.912253</td>\n",
       "    </tr>\n",
       "    <tr>\n",
       "      <th>Fare</th>\n",
       "      <td>19.255264</td>\n",
       "    </tr>\n",
       "    <tr>\n",
       "      <th>Title_Mr</th>\n",
       "      <td>14.787516</td>\n",
       "    </tr>\n",
       "    <tr>\n",
       "      <th>Age</th>\n",
       "      <td>10.913992</td>\n",
       "    </tr>\n",
       "    <tr>\n",
       "      <th>Family</th>\n",
       "      <td>8.887880</td>\n",
       "    </tr>\n",
       "    <tr>\n",
       "      <th>Pclass_3</th>\n",
       "      <td>4.970975</td>\n",
       "    </tr>\n",
       "    <tr>\n",
       "      <th>Ticket_len</th>\n",
       "      <td>4.317051</td>\n",
       "    </tr>\n",
       "    <tr>\n",
       "      <th>Cabin_N</th>\n",
       "      <td>3.016046</td>\n",
       "    </tr>\n",
       "    <tr>\n",
       "      <th>Title_Master</th>\n",
       "      <td>2.937964</td>\n",
       "    </tr>\n",
       "    <tr>\n",
       "      <th>Cabin_E</th>\n",
       "      <td>1.968430</td>\n",
       "    </tr>\n",
       "    <tr>\n",
       "      <th>is_married_female</th>\n",
       "      <td>1.684272</td>\n",
       "    </tr>\n",
       "    <tr>\n",
       "      <th>Embarked_S</th>\n",
       "      <td>1.392304</td>\n",
       "    </tr>\n",
       "    <tr>\n",
       "      <th>Pclass_2</th>\n",
       "      <td>1.042130</td>\n",
       "    </tr>\n",
       "    <tr>\n",
       "      <th>Cabin_C</th>\n",
       "      <td>1.009514</td>\n",
       "    </tr>\n",
       "    <tr>\n",
       "      <th>Cabin_D</th>\n",
       "      <td>0.377514</td>\n",
       "    </tr>\n",
       "    <tr>\n",
       "      <th>Title_Rev</th>\n",
       "      <td>0.260411</td>\n",
       "    </tr>\n",
       "    <tr>\n",
       "      <th>is_child</th>\n",
       "      <td>0.150013</td>\n",
       "    </tr>\n",
       "    <tr>\n",
       "      <th>Title_Mrs</th>\n",
       "      <td>0.093480</td>\n",
       "    </tr>\n",
       "    <tr>\n",
       "      <th>Cabin_Other</th>\n",
       "      <td>0.022990</td>\n",
       "    </tr>\n",
       "    <tr>\n",
       "      <th>Cabin_B</th>\n",
       "      <td>0.000000</td>\n",
       "    </tr>\n",
       "    <tr>\n",
       "      <th>Cabin_F</th>\n",
       "      <td>0.000000</td>\n",
       "    </tr>\n",
       "    <tr>\n",
       "      <th>Embarked_Q</th>\n",
       "      <td>0.000000</td>\n",
       "    </tr>\n",
       "    <tr>\n",
       "      <th>Title_Duty</th>\n",
       "      <td>0.000000</td>\n",
       "    </tr>\n",
       "    <tr>\n",
       "      <th>Title_Miss</th>\n",
       "      <td>0.000000</td>\n",
       "    </tr>\n",
       "    <tr>\n",
       "      <th>Title_Other</th>\n",
       "      <td>0.000000</td>\n",
       "    </tr>\n",
       "  </tbody>\n",
       "</table>\n",
       "</div>"
      ],
      "text/plain": [
       "                      weight\n",
       "Sex                22.912253\n",
       "Fare               19.255264\n",
       "Title_Mr           14.787516\n",
       "Age                10.913992\n",
       "Family              8.887880\n",
       "Pclass_3            4.970975\n",
       "Ticket_len          4.317051\n",
       "Cabin_N             3.016046\n",
       "Title_Master        2.937964\n",
       "Cabin_E             1.968430\n",
       "is_married_female   1.684272\n",
       "Embarked_S          1.392304\n",
       "Pclass_2            1.042130\n",
       "Cabin_C             1.009514\n",
       "Cabin_D             0.377514\n",
       "Title_Rev           0.260411\n",
       "is_child            0.150013\n",
       "Title_Mrs           0.093480\n",
       "Cabin_Other         0.022990\n",
       "Cabin_B             0.000000\n",
       "Cabin_F             0.000000\n",
       "Embarked_Q          0.000000\n",
       "Title_Duty          0.000000\n",
       "Title_Miss          0.000000\n",
       "Title_Other         0.000000"
      ]
     },
     "execution_count": 108,
     "metadata": {},
     "output_type": "execute_result"
    }
   ],
   "source": [
    "# Get and print feature importances\n",
    "cat_fi = get_feat_importances(best_model_rnd_cat)\n",
    "cat_fi"
   ]
  },
  {
   "cell_type": "markdown",
   "metadata": {},
   "source": [
    "**Full evaluation scores**"
   ]
  },
  {
   "cell_type": "code",
   "execution_count": 109,
   "metadata": {
    "code_folding": [
     0
    ]
   },
   "outputs": [],
   "source": [
    "# Predict target with \"best model\"\n",
    "y_train_pred_cat = best_model_rnd_cat.predict(X_train_prep)"
   ]
  },
  {
   "cell_type": "code",
   "execution_count": 110,
   "metadata": {
    "code_folding": [
     0
    ],
    "scrolled": true
   },
   "outputs": [
    {
     "name": "stdout",
     "output_type": "stream",
     "text": [
      "Accuracy: 0.88\n",
      "Recall: 0.81\n",
      "Precision: 0.87\n",
      "F1 Score: 0.84\n",
      "ROC/AUC: 0.87\n",
      "Confusion Matrix: \n",
      "[[506  43]\n",
      " [ 64 276]]\n"
     ]
    }
   ],
   "source": [
    "# Full evaluation of \"best model\"\n",
    "model_eval(y_train, y_train_pred_cat)"
   ]
  },
  {
   "cell_type": "markdown",
   "metadata": {},
   "source": [
    "## Model 5: Neural Network"
   ]
  },
  {
   "cell_type": "code",
   "execution_count": 111,
   "metadata": {
    "code_folding": [
     0
    ]
   },
   "outputs": [],
   "source": [
    "# Build the model\n",
    "model_nn_seq = models.Sequential()"
   ]
  },
  {
   "cell_type": "code",
   "execution_count": 112,
   "metadata": {
    "code_folding": [
     0
    ]
   },
   "outputs": [],
   "source": [
    "# Model Layers\n",
    "model_nn_seq.add(layers.Dense(128, input_shape=(X_train_prep.shape[1], ), activation='relu'))\n",
    "model_nn_seq.add(layers.Dense(300, activation='relu'))\n",
    "model_nn_seq.add(layers.Dense(100, activation='relu'))\n",
    "model_nn_seq.add(layers.Dense(10, activation='relu'))\n",
    "model_nn_seq.add(layers.Dense(1, activation='sigmoid'))"
   ]
  },
  {
   "cell_type": "code",
   "execution_count": 113,
   "metadata": {
    "code_folding": [
     0
    ]
   },
   "outputs": [],
   "source": [
    "# Compile the model\n",
    "model_nn_seq.compile(loss='binary_crossentropy',\n",
    "                     optimizer='adam',\n",
    "                     metrics=['accuracy'])"
   ]
  },
  {
   "cell_type": "code",
   "execution_count": 114,
   "metadata": {
    "code_folding": [
     0
    ]
   },
   "outputs": [
    {
     "name": "stdout",
     "output_type": "stream",
     "text": [
      "Model: \"sequential_1\"\n",
      "_________________________________________________________________\n",
      "Layer (type)                 Output Shape              Param #   \n",
      "=================================================================\n",
      "dense_1 (Dense)              (None, 128)               3328      \n",
      "_________________________________________________________________\n",
      "dense_2 (Dense)              (None, 300)               38700     \n",
      "_________________________________________________________________\n",
      "dense_3 (Dense)              (None, 100)               30100     \n",
      "_________________________________________________________________\n",
      "dense_4 (Dense)              (None, 10)                1010      \n",
      "_________________________________________________________________\n",
      "dense_5 (Dense)              (None, 1)                 11        \n",
      "=================================================================\n",
      "Total params: 73,149\n",
      "Trainable params: 73,149\n",
      "Non-trainable params: 0\n",
      "_________________________________________________________________\n",
      "None\n"
     ]
    }
   ],
   "source": [
    "# Model summary\n",
    "print(model_nn_seq.summary())"
   ]
  },
  {
   "cell_type": "code",
   "execution_count": 115,
   "metadata": {
    "code_folding": [
     0
    ]
   },
   "outputs": [],
   "source": [
    "# Visualize the neural network\n",
    "#SVG(model_to_dot(model_nn_seq, show_layer_names=False, show_shapes=True).create(prog='dot', format='svg'))"
   ]
  },
  {
   "cell_type": "code",
   "execution_count": 119,
   "metadata": {
    "code_folding": []
   },
   "outputs": [
    {
     "name": "stdout",
     "output_type": "stream",
     "text": [
      "Train on 711 samples, validate on 178 samples\n",
      "Epoch 1/10\n",
      "711/711 [==============================] - 0s 18us/step - loss: 0.3692 - accuracy: 0.8425 - val_loss: 0.3285 - val_accuracy: 0.8876\n",
      "Epoch 2/10\n",
      "711/711 [==============================] - 0s 15us/step - loss: 0.3664 - accuracy: 0.8439 - val_loss: 0.3335 - val_accuracy: 0.8820\n",
      "Epoch 3/10\n",
      "711/711 [==============================] - 0s 15us/step - loss: 0.3635 - accuracy: 0.8453 - val_loss: 0.3301 - val_accuracy: 0.8764\n",
      "Epoch 4/10\n",
      "711/711 [==============================] - 0s 14us/step - loss: 0.3584 - accuracy: 0.8481 - val_loss: 0.3320 - val_accuracy: 0.8764\n",
      "Epoch 5/10\n",
      "711/711 [==============================] - 0s 15us/step - loss: 0.3584 - accuracy: 0.8495 - val_loss: 0.3333 - val_accuracy: 0.8764\n",
      "Epoch 6/10\n",
      "711/711 [==============================] - 0s 14us/step - loss: 0.3544 - accuracy: 0.8537 - val_loss: 0.3260 - val_accuracy: 0.8764\n",
      "Epoch 7/10\n",
      "711/711 [==============================] - 0s 13us/step - loss: 0.3595 - accuracy: 0.8467 - val_loss: 0.3528 - val_accuracy: 0.8708\n",
      "Epoch 8/10\n",
      "711/711 [==============================] - 0s 17us/step - loss: 0.3486 - accuracy: 0.8579 - val_loss: 0.3220 - val_accuracy: 0.8652\n",
      "Epoch 9/10\n",
      "711/711 [==============================] - 0s 15us/step - loss: 0.3451 - accuracy: 0.8565 - val_loss: 0.3426 - val_accuracy: 0.8708\n",
      "Epoch 10/10\n",
      "711/711 [==============================] - 0s 15us/step - loss: 0.3400 - accuracy: 0.8622 - val_loss: 0.3528 - val_accuracy: 0.8708\n"
     ]
    }
   ],
   "source": [
    "# Train model\n",
    "best_model_nn_seq = model_nn_seq.fit(X_train_prep,\n",
    "                        y_train,\n",
    "                        epochs=10,\n",
    "                        batch_size=256,\n",
    "                        validation_split=0.2)"
   ]
  },
  {
   "cell_type": "markdown",
   "metadata": {},
   "source": [
    "**Full evaluation scores**"
   ]
  },
  {
   "cell_type": "code",
   "execution_count": 117,
   "metadata": {
    "code_folding": [
     0
    ]
   },
   "outputs": [],
   "source": [
    "# Predict target with \"best model\"\n",
    "y_train_pred_nn = model_nn_seq.predict_classes(X_train_prep).ravel()"
   ]
  },
  {
   "cell_type": "code",
   "execution_count": 118,
   "metadata": {
    "code_folding": [
     0
    ]
   },
   "outputs": [
    {
     "name": "stdout",
     "output_type": "stream",
     "text": [
      "Accuracy: 0.85\n",
      "Recall: 0.73\n",
      "Precision: 0.85\n",
      "F1 Score: 0.79\n",
      "ROC/AUC: 0.82\n",
      "Confusion Matrix: \n",
      "[[507  42]\n",
      " [ 93 247]]\n"
     ]
    }
   ],
   "source": [
    "# Final evaluation of \"best model\"\n",
    "model_eval(y_train, y_train_pred_nn)"
   ]
  },
  {
   "cell_type": "code",
   "execution_count": 121,
   "metadata": {},
   "outputs": [],
   "source": [
    "y_test_pred_nn = model_nn_seq.predict_classes(X_test_prep).ravel()"
   ]
  },
  {
   "cell_type": "markdown",
   "metadata": {},
   "source": [
    "# Final Evaluation"
   ]
  },
  {
   "cell_type": "code",
   "execution_count": 124,
   "metadata": {
    "code_folding": []
   },
   "outputs": [],
   "source": [
    "# Select best model\n",
    "best_model = best_model_rnd_cat"
   ]
  },
  {
   "cell_type": "code",
   "execution_count": 120,
   "metadata": {
    "code_folding": [
     0
    ],
    "scrolled": true
   },
   "outputs": [],
   "source": [
    "# Apply preprocessing functions and pipeline to X_test dataset\n",
    "data_cleaning(X_test)\n",
    "feature_engineering(X_test)\n",
    "X_test_prep = X_train_prep_preprocessor.transform(X_test)"
   ]
  },
  {
   "cell_type": "code",
   "execution_count": 125,
   "metadata": {
    "code_folding": [
     0
    ]
   },
   "outputs": [],
   "source": [
    "# Predict target with \"best model\"\n",
    "y_test_pred = best_model.predict(X_test_prep)"
   ]
  },
  {
   "cell_type": "code",
   "execution_count": 126,
   "metadata": {
    "code_folding": [
     0
    ]
   },
   "outputs": [
    {
     "data": {
      "text/html": [
       "<div>\n",
       "<style scoped>\n",
       "    .dataframe tbody tr th:only-of-type {\n",
       "        vertical-align: middle;\n",
       "    }\n",
       "\n",
       "    .dataframe tbody tr th {\n",
       "        vertical-align: top;\n",
       "    }\n",
       "\n",
       "    .dataframe thead th {\n",
       "        text-align: right;\n",
       "    }\n",
       "</style>\n",
       "<table border=\"1\" class=\"dataframe\">\n",
       "  <thead>\n",
       "    <tr style=\"text-align: right;\">\n",
       "      <th></th>\n",
       "      <th>PassengerId</th>\n",
       "      <th>Survived</th>\n",
       "    </tr>\n",
       "  </thead>\n",
       "  <tbody>\n",
       "    <tr>\n",
       "      <th>0</th>\n",
       "      <td>892</td>\n",
       "      <td>0</td>\n",
       "    </tr>\n",
       "    <tr>\n",
       "      <th>1</th>\n",
       "      <td>893</td>\n",
       "      <td>0</td>\n",
       "    </tr>\n",
       "    <tr>\n",
       "      <th>2</th>\n",
       "      <td>894</td>\n",
       "      <td>0</td>\n",
       "    </tr>\n",
       "    <tr>\n",
       "      <th>3</th>\n",
       "      <td>895</td>\n",
       "      <td>0</td>\n",
       "    </tr>\n",
       "    <tr>\n",
       "      <th>4</th>\n",
       "      <td>896</td>\n",
       "      <td>1</td>\n",
       "    </tr>\n",
       "  </tbody>\n",
       "</table>\n",
       "</div>"
      ],
      "text/plain": [
       "   PassengerId  Survived\n",
       "0          892         0\n",
       "1          893         0\n",
       "2          894         0\n",
       "3          895         0\n",
       "4          896         1"
      ]
     },
     "execution_count": 126,
     "metadata": {},
     "output_type": "execute_result"
    }
   ],
   "source": [
    "# Transform PassengerID back to column and create submission DataFrame\n",
    "titanic_submission = pd.DataFrame({'PassengerId':X_test.index,'Survived':y_test_pred})\n",
    "titanic_submission.head()"
   ]
  },
  {
   "cell_type": "code",
   "execution_count": 127,
   "metadata": {
    "code_folding": [
     0
    ]
   },
   "outputs": [],
   "source": [
    "# Export submission file\n",
    "titanic_submission.to_csv('submission/titanic_submission.csv', index=False, encoding='utf-8')"
   ]
  },
  {
   "cell_type": "code",
   "execution_count": null,
   "metadata": {},
   "outputs": [],
   "source": []
  }
 ],
 "metadata": {
  "kernelspec": {
   "display_name": "Python [conda env:airbnb42] *",
   "language": "python",
   "name": "conda-env-airbnb42-py"
  },
  "language_info": {
   "codemirror_mode": {
    "name": "ipython",
    "version": 3
   },
   "file_extension": ".py",
   "mimetype": "text/x-python",
   "name": "python",
   "nbconvert_exporter": "python",
   "pygments_lexer": "ipython3",
   "version": "3.6.10"
  },
  "toc": {
   "base_numbering": 1,
   "nav_menu": {},
   "number_sections": true,
   "sideBar": true,
   "skip_h1_title": false,
   "title_cell": "Table of Contents",
   "title_sidebar": "Contents",
   "toc_cell": false,
   "toc_position": {
    "height": "calc(100% - 180px)",
    "left": "10px",
    "top": "150px",
    "width": "191.594px"
   },
   "toc_section_display": true,
   "toc_window_display": true
  }
 },
 "nbformat": 4,
 "nbformat_minor": 4
}
